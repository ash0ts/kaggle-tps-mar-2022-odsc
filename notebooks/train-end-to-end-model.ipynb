{
 "cells": [
  {
   "cell_type": "code",
   "execution_count": 1,
   "id": "a5c81b3b-ca8d-426d-bd5d-7437f34c6c56",
   "metadata": {},
   "outputs": [
    {
     "data": {
      "text/plain": [
       "True"
      ]
     },
     "execution_count": 1,
     "metadata": {},
     "output_type": "execute_result"
    }
   ],
   "source": [
    "from dotenv import find_dotenv, load_dotenv\n",
    "import os\n",
    "load_dotenv(find_dotenv())"
   ]
  },
  {
   "cell_type": "code",
   "execution_count": 2,
   "id": "cd360c33-0907-4f9c-a316-d514cf304cd6",
   "metadata": {},
   "outputs": [],
   "source": [
    "import wandb"
   ]
  },
  {
   "cell_type": "code",
   "execution_count": null,
   "id": "9b987edd-f322-420b-82c6-9066b29d6190",
   "metadata": {},
   "outputs": [],
   "source": [
    "import prefect\n",
    "from prefect import task, Flow, Parameter\n",
    "from prefect.run_configs import LocalRun"
   ]
  },
  {
   "cell_type": "code",
   "execution_count": 3,
   "id": "736f23cf-a29d-4264-87e9-09369e177738",
   "metadata": {},
   "outputs": [],
   "source": [
    "from kaggle.api.kaggle_api_extended import KaggleApi"
   ]
  },
  {
   "cell_type": "code",
   "execution_count": 4,
   "id": "f7716434-6979-4cc8-b492-bd117a267df1",
   "metadata": {},
   "outputs": [],
   "source": [
    "import pandas as pd\n",
    "from zipfile import ZipFile\n",
    "import json\n",
    "from datetime import datetime"
   ]
  },
  {
   "cell_type": "code",
   "execution_count": null,
   "id": "b07cb106",
   "metadata": {},
   "outputs": [],
   "source": [
    "_DOWNLOAD = False\n",
    "_FE = False\n",
    "_TRAIN = True"
   ]
  },
  {
   "cell_type": "code",
   "execution_count": null,
   "id": "c3b8a73f-4e26-4423-bb29-1b6b391e4e1d",
   "metadata": {},
   "outputs": [],
   "source": [
    "def add_convert_for_wandb(artifact, path):\n",
    "    \n",
    "    artifact.add_dir(path, name=\"data\")\n",
    "\n",
    "    for file_name in os.listdir(path):\n",
    "        if file_name.endswith(\".csv\"):\n",
    "            path_to_file = os.path.join(path, file_name)\n",
    "            tab_name = file_name.replace(\".csv\", \"\")\n",
    "            print(f\"adding {tab_name}\")\n",
    "            df = pd.read_csv(path_to_file)\n",
    "            print(f\"{tab_name}:{df.shape}\")\n",
    "            table = wandb.Table(dataframe=df)\n",
    "            artifact.add(table, name=tab_name)\n",
    "    \n",
    "    return None"
   ]
  },
  {
   "cell_type": "code",
   "execution_count": null,
   "id": "ab26715c-3385-4613-9872-74337155e17b",
   "metadata": {},
   "outputs": [],
   "source": [
    "@task(log_stdout=True)\n",
    "def download_and_log_kaggle_data(competition: str = \"tabular-playground-series-mar-2022\", project_name: str = \"kaggle-tps-mar-2022-odsc\"):\n",
    "\n",
    "    logger = prefect.context.get(\"logger\")\n",
    "\n",
    "    print(f\"starting new run for {project_name}\")\n",
    "    run = wandb.init(\n",
    "        project=project_name, job_type=\"download\", name=f\"log-{competition}\")\n",
    "\n",
    "    api = KaggleApi()\n",
    "    api.authenticate()\n",
    "    api.competition_download_files(competition)\n",
    "    zip_path = f\"{competition}.zip\"\n",
    "    path_to_raw = os.path.join(\".\", \"data\", \"raw\")\n",
    "    ZipFile(zip_path).extractall(path=path_to_raw)\n",
    "    os.remove(zip_path)\n",
    "\n",
    "    # TODO: Remove hack to add data secription\n",
    "    if competition == \"tabular-playground-series-mar-2022\":\n",
    "        data_description = \"\"\"\n",
    "            In this competition, you'll forecast twelve-hours of traffic flow in a major U.S. metropolitan area. Time, space, and directional features give you the chance to model interactions across a network of roadways.\n",
    "\n",
    "            Files and Field Descriptions\n",
    "            -------------------------------\n",
    "            train.csv - the training set, comprising measurements of traffic congestion across 65 roadways from April through September of 1991.\n",
    "            row_id - a unique identifier for this instance\n",
    "            time - the 20-minute period in which each measurement was taken\n",
    "            x - the east-west midpoint coordinate of the roadway\n",
    "            y - the north-south midpoint coordinate of the roadway\n",
    "            direction - the direction of travel of the roadway. EB indicates \"eastbound\" travel, for example, while SW indicates a \"southwest\" direction of travel.\n",
    "            congestion - congestion levels for the roadway during each hour; the target. The congestion measurements have been normalized to the range 0 to 100.\n",
    "            test.csv - the test set; you will make hourly predictions for roadways identified by a coordinate location and a direction of travel on the day of 1991-09-30.\n",
    "            sample_submission.csv - a sample submission file in the correct format\n",
    "        \"\"\"\n",
    "\n",
    "    raw_data_artifact = wandb.Artifact(\n",
    "        name=\"raw\", type=competition, description=data_description)\n",
    "    add_convert_for_wandb(raw_data_artifact, path_to_raw)\n",
    "\n",
    "    run.log_artifact(raw_data_artifact)\n",
    "    run.finish()\n",
    "\n",
    "    return None"
   ]
  },
  {
   "cell_type": "code",
   "execution_count": null,
   "id": "2373b9eb-d158-40fb-a940-15496f3da1a3",
   "metadata": {},
   "outputs": [],
   "source": [
    "if _DOWNLOAD:\n",
    "    download_and_log_kaggle_data.run()"
   ]
  },
  {
   "cell_type": "code",
   "execution_count": null,
   "id": "8664a211-1289-4253-bb8d-965ab3282429",
   "metadata": {},
   "outputs": [],
   "source": [
    "def feature_engineering(data):\n",
    "    \n",
    "#     data = raw_data.copy(deep=True)\n",
    "    \n",
    "    data['time'] = pd.to_datetime(data['time'])\n",
    "    data['month'] = data['time'].dt.month\n",
    "    data['weekday'] = data['time'].dt.weekday\n",
    "    data['hour'] = data['time'].dt.hour\n",
    "    data['minute'] = data['time'].dt.minute\n",
    "    data['is_month_start'] = data['time'].dt.is_month_start.astype('int')\n",
    "    data['is_month_end'] = data['time'].dt.is_month_end.astype('int')\n",
    "    data['hour+minute'] = data['time'].dt.hour * 60 + data['time'].dt.minute\n",
    "    data['is_weekend'] = (data['time'].dt.dayofweek > 4).astype('int')\n",
    "    data['is_afternoon'] = (data['time'].dt.hour > 12).astype('int')\n",
    "    data['x+y'] = data['x'].astype('str') + data['y'].astype('str')\n",
    "    data['x+y+direction'] = data['x'].astype('str') + data['y'].astype('str') + data['direction'].astype('str')\n",
    "    data['hour+direction'] = data['hour'].astype('str') + data['direction'].astype('str')\n",
    "    data['hour+x+y'] = data['hour'].astype('str') + data['x'].astype('str') + data['y'].astype('str')\n",
    "    data['hour+direction+x'] = data['hour'].astype('str') + data['direction'].astype('str') + data['x'].astype('str')\n",
    "    data['hour+direction+y'] = data['hour'].astype('str') + data['direction'].astype('str') + data['y'].astype('str')\n",
    "    data['hour+direction+x+y'] = data['hour'].astype('str') + data['direction'].astype('str') + data['x'].astype('str') + data['y'].astype('str')\n",
    "    data['hour+x'] = data['hour'].astype('str') + data['x'].astype('str')\n",
    "    data['hour+y'] = data['hour'].astype('str') + data['y'].astype('str')\n",
    "#     data = data.drop(['time'], axis=1)\n",
    "    return data"
   ]
  },
  {
   "cell_type": "code",
   "execution_count": null,
   "id": "4f4561e3-1505-492b-b1df-31cf5155830a",
   "metadata": {},
   "outputs": [],
   "source": [
    "@task(log_stdout=True)\n",
    "def feature_engineer_log_tps_2022(competition: str = \"tabular-playground-series-mar-2022\", project_name: str = \"kaggle-tps-mar-2022-odsc\"):\n",
    "    run = wandb.init(\n",
    "        project=project_name, job_type=\"feature_engineer\", name=f\"feature_engineer-{competition}\")\n",
    "    comp_data_art = run.use_artifact(f\"{project_name}/raw:latest\", type=competition)\n",
    "    comp_data_path = os.path.join(comp_data_art.download(), \"data\")\n",
    "    \n",
    "    train_path = os.path.join(comp_data_path, \"train.csv\")\n",
    "    test_path = os.path.join(comp_data_path, \"test.csv\")\n",
    "    submission_path = os.path.join(comp_data_path, \"sample_submission.csv\")\n",
    "    \n",
    "    train_data = pd.read_csv(train_path, dtype={'time': str})\n",
    "    test_data = pd.read_csv(test_path, dtype={'time': str})\n",
    "    submission = pd.read_csv(submission_path)\n",
    "\n",
    "    fe_train_data = feature_engineering(train_data)\n",
    "    fe_test_data = feature_engineering(test_data)\n",
    "    \n",
    "    local_data_dir = os.path.join(\"..\", \"data\")\n",
    "    fe_path = os.path.join(local_data_dir, \"fe\")\n",
    "    if not os.path.exists(fe_path):\n",
    "        os.makedirs(fe_path)\n",
    "    \n",
    "    fe_train_data_path = os.path.join(fe_path, \"fe_train.csv\")\n",
    "    fe_test_data_path = os.path.join(fe_path, \"fe_test.csv\")\n",
    "    \n",
    "    fe_train_data.to_csv(fe_train_data_path, index=False)\n",
    "    fe_test_data.to_csv(fe_test_data_path, index=False)\n",
    "    \n",
    "    fe_artifact = wandb.Artifact(\n",
    "        name=\"feature_engineered\", type=competition)\n",
    "    add_convert_for_wandb(fe_artifact, fe_path)\n",
    "    \n",
    "    run.log_artifact(fe_artifact)\n",
    "    run.finish()\n",
    "    \n",
    "    return None"
   ]
  },
  {
   "cell_type": "code",
   "execution_count": null,
   "id": "93cc2f6c-42bc-4e43-af51-f49e23e61d89",
   "metadata": {},
   "outputs": [],
   "source": [
    "if _FE:\n",
    "    feature_engineer_log_tps_2022.run()"
   ]
  },
  {
   "cell_type": "code",
   "execution_count": 5,
   "id": "f5c634d6",
   "metadata": {},
   "outputs": [],
   "source": [
    "from pycaret.regression import *"
   ]
  },
  {
   "cell_type": "code",
   "execution_count": 6,
   "id": "e022a6a1-c215-4fc3-8b90-1f4618ef4a48",
   "metadata": {},
   "outputs": [],
   "source": [
    "# Accessory function to call the collection of functions needed to convert useful information from the pycaret run into loggable artifacts for lineaging\n",
    "def perform_experiment(exp):\n",
    "\n",
    "    # Experiments are run by splitting a data into training and holdout internally, allowing their ability to make comparison\n",
    "\n",
    "    # Runs an experiment which will compare different model types here and select the best model type\n",
    "    best_model = compare_models()\n",
    "\n",
    "    # Return the dataframe that shows the different metrics calculated for each of the tested model types\n",
    "    leaderboard = get_leaderboard()\n",
    "    # Get the internal names of the models for referential ID's in a DataFrame\n",
    "    available_model_types = models()\n",
    "    # Merge the above Dataframes\n",
    "    model_comparison_results = leaderboard.reset_index().merge(available_model_types.reset_index(), left_on=\"Model Name\", right_on=\"Name\")\n",
    "\n",
    "    # Takes the best model type from above and fine tune it to find the best hyperparameters, \n",
    "    # and collect useful information about the model during the tuning process\n",
    "    tuned_finalized_model, tuned_model_results, tuner_cv_results = tune_and_finalize_model_with_metrics(best_model)\n",
    "    return model_comparison_results, tuned_finalized_model, tuned_model_results, tuner_cv_results"
   ]
  },
  {
   "cell_type": "code",
   "execution_count": 7,
   "id": "409d760c-dc5d-4ef4-bfa9-e0b3dfd00e89",
   "metadata": {},
   "outputs": [],
   "source": [
    "# Function to take a PyCaret model and generate an optimized model and the results of the optimization steps in dataframes\n",
    "def tune_and_finalize_model_with_metrics(model):\n",
    "    tuned_model, tuner = tune_model(model, return_tuner=True)\n",
    "    #Pull collects the latest calculated table from output/experimentation into a dataframe\n",
    "    #The pull after a tune_model call will return the details of optimization steps over a variety of metrics\n",
    "    tuned_model_results = pull().reset_index()\n",
    "    tuned_model_results[\"index\"] = tuned_model_results[\"index\"].astype(str)\n",
    "\n",
    "    #The tuner cv results will return scores and more internal details of the model as it was tested over the optimization search schema\n",
    "    tuner_cv_results = pd.DataFrame(tuner.cv_results_).reset_index()\n",
    "    tuner_cv_results[\"index\"]  = tuner_cv_results[\"index\"].astype(str)\n",
    "\n",
    "    #We finalize the model to train over the whole dataset (no holdout/validation dataset split)\n",
    "    tuned_finalized_model = finalize_model(tuned_model)\n",
    "    return tuned_finalized_model, tuned_model_results, tuner_cv_results"
   ]
  },
  {
   "cell_type": "code",
   "execution_count": 8,
   "id": "87128654-3151-439c-8314-22a74f4c629c",
   "metadata": {},
   "outputs": [],
   "source": [
    "#https://pycaret.readthedocs.io/en/latest/api/regression.html\n",
    "#TODO: Hardcode the relationships between the features and the numeric vs categorical features\n",
    "def setup_tps_2022_config(seed):\n",
    "    config = {\n",
    "        \"target\": \"congestion\",\n",
    "        \"fold_strategy\" : 'timeseries',\n",
    "        \"session_id\": seed,\n",
    "        \"ignore_features\" : [\"row_id\"],\n",
    "#         \"transform_target\": True,\n",
    "        \"experiment_name\": f\"tps_march_2022_{seed}\",\n",
    "        \"silent\": True,\n",
    "#         \"normalize\": True,\n",
    "#         \"transformation\": True,\n",
    "        \"ignore_low_variance\": True,\n",
    "        \"remove_multicollinearity\": True,\n",
    "        \"multicollinearity_threshold\": 0.95,\n",
    "    }\n",
    "    return config"
   ]
  },
  {
   "cell_type": "code",
   "execution_count": 9,
   "id": "6adf8198",
   "metadata": {},
   "outputs": [],
   "source": [
    "n=1\n",
    "now = datetime.now().strftime('%Y-%m-%d-%H-%M-%S')\n",
    "competition=\"tabular-playground-series-mar-2022\"\n",
    "project_name = \"kaggle-tps-mar-2022-odsc\""
   ]
  },
  {
   "cell_type": "code",
   "execution_count": 10,
   "id": "2e9b58ec",
   "metadata": {},
   "outputs": [
    {
     "name": "stderr",
     "output_type": "stream",
     "text": [
      "\u001b[34m\u001b[1mwandb\u001b[0m: Currently logged in as: \u001b[33ma-sh0ts\u001b[0m (use `wandb login --relogin` to force relogin)\n"
     ]
    },
    {
     "data": {
      "text/html": [
       "Tracking run with wandb version 0.12.11"
      ],
      "text/plain": [
       "<IPython.core.display.HTML object>"
      ]
     },
     "metadata": {},
     "output_type": "display_data"
    },
    {
     "data": {
      "text/html": [
       "Run data is saved locally in <code>C:\\Users\\anish\\Documents\\Work\\kaggle-tps-mar-2022-odsc\\notebooks\\wandb\\run-20220314_032109-fn5c7mpp</code>"
      ],
      "text/plain": [
       "<IPython.core.display.HTML object>"
      ]
     },
     "metadata": {},
     "output_type": "display_data"
    },
    {
     "data": {
      "text/html": [
       "Syncing run <strong><a href=\"https://wandb.ai/a-sh0ts/kaggle-tps-mar-2022-odsc/runs/fn5c7mpp\" target=\"_blank\">train-seed-1-tabular-playground-series-mar-2022</a></strong> to <a href=\"https://wandb.ai/a-sh0ts/kaggle-tps-mar-2022-odsc\" target=\"_blank\">Weights & Biases</a> (<a href=\"https://wandb.me/run\" target=\"_blank\">docs</a>)<br/>"
      ],
      "text/plain": [
       "<IPython.core.display.HTML object>"
      ]
     },
     "metadata": {},
     "output_type": "display_data"
    },
    {
     "name": "stdout",
     "output_type": "stream",
     "text": [
      "Seed: 1\n"
     ]
    },
    {
     "name": "stderr",
     "output_type": "stream",
     "text": [
      "\u001b[34m\u001b[1mwandb\u001b[0m: Downloading large artifact feature_engineered:latest, 109.27MB. 4 files... Done. 0:0:0\n"
     ]
    }
   ],
   "source": [
    "for i in range(n):\n",
    "    #Use seed to create a unique configuration for the current pycaret experiment\n",
    "    seed = i + 1\n",
    "\n",
    "    config = setup_tps_2022_config(seed) #Your specific configs for pycaret data preparation\n",
    "    \n",
    "    #Initialize wandb run to begin logging for pycaret experiment\n",
    "    run = wandb.init(project=project_name, reinit=True, config = config,\n",
    "               name=f\"train-seed-{seed}-{competition}\")\n",
    "    print(f\"Seed: {seed}\")\n",
    "    # run.display(height=360)\n",
    "\n",
    "    #Pull latest training data from wandb and load into df\n",
    "    fe_data_art = run.use_artifact(f\"{project_name}/feature_engineered:latest\", type=competition)\n",
    "    fe_data_path = os.path.join(fe_data_art.download(), \"data\")    "
   ]
  },
  {
   "cell_type": "code",
   "execution_count": 11,
   "id": "d4b03a44",
   "metadata": {},
   "outputs": [],
   "source": [
    "all_train_data = pd.read_csv(os.path.join(fe_data_path, \"fe_train.csv\"))#.convert_dtypes()"
   ]
  },
  {
   "cell_type": "code",
   "execution_count": 12,
   "id": "8a1a3084",
   "metadata": {},
   "outputs": [],
   "source": [
    "# train_data = all_train_data.drop([\"time\"], axis=1)"
   ]
  },
  {
   "cell_type": "code",
   "execution_count": 13,
   "id": "10247901",
   "metadata": {},
   "outputs": [],
   "source": [
    "# targetless_data = train_data.drop([\"congestion\"], axis=1)"
   ]
  },
  {
   "cell_type": "code",
   "execution_count": 14,
   "id": "d4b1cd42",
   "metadata": {},
   "outputs": [],
   "source": [
    "# corr = pd.DataFrame(np.corrcoef(targetless_data.T))"
   ]
  },
  {
   "cell_type": "code",
   "execution_count": 15,
   "id": "4d506eee",
   "metadata": {},
   "outputs": [],
   "source": [
    "train_data = all_train_data[[\"row_id\", \"time\", \"congestion\", \"x\", \"y\", \"direction\"]]\n",
    "train_data['time'] = pd.to_datetime(train_data['time'])"
   ]
  },
  {
   "cell_type": "code",
   "execution_count": 16,
   "id": "6070905a",
   "metadata": {},
   "outputs": [
    {
     "name": "stdout",
     "output_type": "stream",
     "text": [
      "<class 'pandas.core.frame.DataFrame'>\n",
      "RangeIndex: 848835 entries, 0 to 848834\n",
      "Data columns (total 6 columns):\n",
      " #   Column      Non-Null Count   Dtype         \n",
      "---  ------      --------------   -----         \n",
      " 0   row_id      848835 non-null  int64         \n",
      " 1   time        848835 non-null  datetime64[ns]\n",
      " 2   congestion  848835 non-null  int64         \n",
      " 3   x           848835 non-null  int64         \n",
      " 4   y           848835 non-null  int64         \n",
      " 5   direction   848835 non-null  object        \n",
      "dtypes: datetime64[ns](1), int64(4), object(1)\n",
      "memory usage: 38.9+ MB\n"
     ]
    }
   ],
   "source": [
    "train_data.info()"
   ]
  },
  {
   "cell_type": "code",
   "execution_count": 17,
   "id": "fa40c6cc",
   "metadata": {},
   "outputs": [
    {
     "data": {
      "text/html": [
       "<style type=\"text/css\">\n",
       "#T_4224a_row10_col0, #T_4224a_row10_col1, #T_4224a_row10_col2, #T_4224a_row10_col3, #T_4224a_row10_col4, #T_4224a_row10_col5 {\n",
       "  background: yellow;\n",
       "}\n",
       "</style>\n",
       "<table id=\"T_4224a\">\n",
       "  <thead>\n",
       "    <tr>\n",
       "      <th class=\"blank level0\" >&nbsp;</th>\n",
       "      <th id=\"T_4224a_level0_col0\" class=\"col_heading level0 col0\" >MAE</th>\n",
       "      <th id=\"T_4224a_level0_col1\" class=\"col_heading level0 col1\" >MSE</th>\n",
       "      <th id=\"T_4224a_level0_col2\" class=\"col_heading level0 col2\" >RMSE</th>\n",
       "      <th id=\"T_4224a_level0_col3\" class=\"col_heading level0 col3\" >R2</th>\n",
       "      <th id=\"T_4224a_level0_col4\" class=\"col_heading level0 col4\" >RMSLE</th>\n",
       "      <th id=\"T_4224a_level0_col5\" class=\"col_heading level0 col5\" >MAPE</th>\n",
       "    </tr>\n",
       "  </thead>\n",
       "  <tbody>\n",
       "    <tr>\n",
       "      <th id=\"T_4224a_level0_row0\" class=\"row_heading level0 row0\" >0</th>\n",
       "      <td id=\"T_4224a_row0_col0\" class=\"data row0 col0\" >6.8013</td>\n",
       "      <td id=\"T_4224a_row0_col1\" class=\"data row0 col1\" >90.1223</td>\n",
       "      <td id=\"T_4224a_row0_col2\" class=\"data row0 col2\" >9.4933</td>\n",
       "      <td id=\"T_4224a_row0_col3\" class=\"data row0 col3\" >0.6817</td>\n",
       "      <td id=\"T_4224a_row0_col4\" class=\"data row0 col4\" >0.2616</td>\n",
       "      <td id=\"T_4224a_row0_col5\" class=\"data row0 col5\" >0.1865</td>\n",
       "    </tr>\n",
       "    <tr>\n",
       "      <th id=\"T_4224a_level0_row1\" class=\"row_heading level0 row1\" >1</th>\n",
       "      <td id=\"T_4224a_row1_col0\" class=\"data row1 col0\" >6.7184</td>\n",
       "      <td id=\"T_4224a_row1_col1\" class=\"data row1 col1\" >88.7165</td>\n",
       "      <td id=\"T_4224a_row1_col2\" class=\"data row1 col2\" >9.4189</td>\n",
       "      <td id=\"T_4224a_row1_col3\" class=\"data row1 col3\" >0.6887</td>\n",
       "      <td id=\"T_4224a_row1_col4\" class=\"data row1 col4\" >0.2625</td>\n",
       "      <td id=\"T_4224a_row1_col5\" class=\"data row1 col5\" >0.1867</td>\n",
       "    </tr>\n",
       "    <tr>\n",
       "      <th id=\"T_4224a_level0_row2\" class=\"row_heading level0 row2\" >2</th>\n",
       "      <td id=\"T_4224a_row2_col0\" class=\"data row2 col0\" >6.6852</td>\n",
       "      <td id=\"T_4224a_row2_col1\" class=\"data row2 col1\" >87.1274</td>\n",
       "      <td id=\"T_4224a_row2_col2\" class=\"data row2 col2\" >9.3342</td>\n",
       "      <td id=\"T_4224a_row2_col3\" class=\"data row2 col3\" >0.6925</td>\n",
       "      <td id=\"T_4224a_row2_col4\" class=\"data row2 col4\" >0.2561</td>\n",
       "      <td id=\"T_4224a_row2_col5\" class=\"data row2 col5\" >0.1834</td>\n",
       "    </tr>\n",
       "    <tr>\n",
       "      <th id=\"T_4224a_level0_row3\" class=\"row_heading level0 row3\" >3</th>\n",
       "      <td id=\"T_4224a_row3_col0\" class=\"data row3 col0\" >6.6679</td>\n",
       "      <td id=\"T_4224a_row3_col1\" class=\"data row3 col1\" >86.7386</td>\n",
       "      <td id=\"T_4224a_row3_col2\" class=\"data row3 col2\" >9.3134</td>\n",
       "      <td id=\"T_4224a_row3_col3\" class=\"data row3 col3\" >0.6950</td>\n",
       "      <td id=\"T_4224a_row3_col4\" class=\"data row3 col4\" >0.2623</td>\n",
       "      <td id=\"T_4224a_row3_col5\" class=\"data row3 col5\" >0.1842</td>\n",
       "    </tr>\n",
       "    <tr>\n",
       "      <th id=\"T_4224a_level0_row4\" class=\"row_heading level0 row4\" >4</th>\n",
       "      <td id=\"T_4224a_row4_col0\" class=\"data row4 col0\" >6.6556</td>\n",
       "      <td id=\"T_4224a_row4_col1\" class=\"data row4 col1\" >87.1913</td>\n",
       "      <td id=\"T_4224a_row4_col2\" class=\"data row4 col2\" >9.3376</td>\n",
       "      <td id=\"T_4224a_row4_col3\" class=\"data row4 col3\" >0.6880</td>\n",
       "      <td id=\"T_4224a_row4_col4\" class=\"data row4 col4\" >0.2592</td>\n",
       "      <td id=\"T_4224a_row4_col5\" class=\"data row4 col5\" >0.1779</td>\n",
       "    </tr>\n",
       "    <tr>\n",
       "      <th id=\"T_4224a_level0_row5\" class=\"row_heading level0 row5\" >5</th>\n",
       "      <td id=\"T_4224a_row5_col0\" class=\"data row5 col0\" >6.6484</td>\n",
       "      <td id=\"T_4224a_row5_col1\" class=\"data row5 col1\" >87.1720</td>\n",
       "      <td id=\"T_4224a_row5_col2\" class=\"data row5 col2\" >9.3366</td>\n",
       "      <td id=\"T_4224a_row5_col3\" class=\"data row5 col3\" >0.6901</td>\n",
       "      <td id=\"T_4224a_row5_col4\" class=\"data row5 col4\" >0.2594</td>\n",
       "      <td id=\"T_4224a_row5_col5\" class=\"data row5 col5\" >0.1826</td>\n",
       "    </tr>\n",
       "    <tr>\n",
       "      <th id=\"T_4224a_level0_row6\" class=\"row_heading level0 row6\" >6</th>\n",
       "      <td id=\"T_4224a_row6_col0\" class=\"data row6 col0\" >6.6302</td>\n",
       "      <td id=\"T_4224a_row6_col1\" class=\"data row6 col1\" >86.3843</td>\n",
       "      <td id=\"T_4224a_row6_col2\" class=\"data row6 col2\" >9.2943</td>\n",
       "      <td id=\"T_4224a_row6_col3\" class=\"data row6 col3\" >0.6917</td>\n",
       "      <td id=\"T_4224a_row6_col4\" class=\"data row6 col4\" >0.2570</td>\n",
       "      <td id=\"T_4224a_row6_col5\" class=\"data row6 col5\" >0.1848</td>\n",
       "    </tr>\n",
       "    <tr>\n",
       "      <th id=\"T_4224a_level0_row7\" class=\"row_heading level0 row7\" >7</th>\n",
       "      <td id=\"T_4224a_row7_col0\" class=\"data row7 col0\" >6.6286</td>\n",
       "      <td id=\"T_4224a_row7_col1\" class=\"data row7 col1\" >86.4232</td>\n",
       "      <td id=\"T_4224a_row7_col2\" class=\"data row7 col2\" >9.2964</td>\n",
       "      <td id=\"T_4224a_row7_col3\" class=\"data row7 col3\" >0.6929</td>\n",
       "      <td id=\"T_4224a_row7_col4\" class=\"data row7 col4\" >0.2609</td>\n",
       "      <td id=\"T_4224a_row7_col5\" class=\"data row7 col5\" >0.1775</td>\n",
       "    </tr>\n",
       "    <tr>\n",
       "      <th id=\"T_4224a_level0_row8\" class=\"row_heading level0 row8\" >8</th>\n",
       "      <td id=\"T_4224a_row8_col0\" class=\"data row8 col0\" >6.6765</td>\n",
       "      <td id=\"T_4224a_row8_col1\" class=\"data row8 col1\" >87.8222</td>\n",
       "      <td id=\"T_4224a_row8_col2\" class=\"data row8 col2\" >9.3714</td>\n",
       "      <td id=\"T_4224a_row8_col3\" class=\"data row8 col3\" >0.6894</td>\n",
       "      <td id=\"T_4224a_row8_col4\" class=\"data row8 col4\" >0.2649</td>\n",
       "      <td id=\"T_4224a_row8_col5\" class=\"data row8 col5\" >0.1841</td>\n",
       "    </tr>\n",
       "    <tr>\n",
       "      <th id=\"T_4224a_level0_row9\" class=\"row_heading level0 row9\" >9</th>\n",
       "      <td id=\"T_4224a_row9_col0\" class=\"data row9 col0\" >6.6374</td>\n",
       "      <td id=\"T_4224a_row9_col1\" class=\"data row9 col1\" >86.5798</td>\n",
       "      <td id=\"T_4224a_row9_col2\" class=\"data row9 col2\" >9.3048</td>\n",
       "      <td id=\"T_4224a_row9_col3\" class=\"data row9 col3\" >0.6926</td>\n",
       "      <td id=\"T_4224a_row9_col4\" class=\"data row9 col4\" >0.2535</td>\n",
       "      <td id=\"T_4224a_row9_col5\" class=\"data row9 col5\" >0.1816</td>\n",
       "    </tr>\n",
       "    <tr>\n",
       "      <th id=\"T_4224a_level0_row10\" class=\"row_heading level0 row10\" >Mean</th>\n",
       "      <td id=\"T_4224a_row10_col0\" class=\"data row10 col0\" >6.6750</td>\n",
       "      <td id=\"T_4224a_row10_col1\" class=\"data row10 col1\" >87.4278</td>\n",
       "      <td id=\"T_4224a_row10_col2\" class=\"data row10 col2\" >9.3501</td>\n",
       "      <td id=\"T_4224a_row10_col3\" class=\"data row10 col3\" >0.6902</td>\n",
       "      <td id=\"T_4224a_row10_col4\" class=\"data row10 col4\" >0.2597</td>\n",
       "      <td id=\"T_4224a_row10_col5\" class=\"data row10 col5\" >0.1829</td>\n",
       "    </tr>\n",
       "    <tr>\n",
       "      <th id=\"T_4224a_level0_row11\" class=\"row_heading level0 row11\" >SD</th>\n",
       "      <td id=\"T_4224a_row11_col0\" class=\"data row11 col0\" >0.0496</td>\n",
       "      <td id=\"T_4224a_row11_col1\" class=\"data row11 col1\" >1.1216</td>\n",
       "      <td id=\"T_4224a_row11_col2\" class=\"data row11 col2\" >0.0597</td>\n",
       "      <td id=\"T_4224a_row11_col3\" class=\"data row11 col3\" >0.0035</td>\n",
       "      <td id=\"T_4224a_row11_col4\" class=\"data row11 col4\" >0.0033</td>\n",
       "      <td id=\"T_4224a_row11_col5\" class=\"data row11 col5\" >0.0030</td>\n",
       "    </tr>\n",
       "  </tbody>\n",
       "</table>\n"
      ],
      "text/plain": [
       "<pandas.io.formats.style.Styler at 0x28e4a172220>"
      ]
     },
     "metadata": {},
     "output_type": "display_data"
    }
   ],
   "source": [
    "#setup and run experiment\n",
    "#TODO: run with the proper generated features\n",
    "ts_exp = setup(data=train_data, **config)\n",
    "model_comparison_results, tuned_finalized_model, tuned_model_results, tuner_cv_results = perform_experiment(ts_exp)"
   ]
  },
  {
   "cell_type": "code",
   "execution_count": 18,
   "id": "4ba3e53a-119a-4466-ab15-25ad13b518c8",
   "metadata": {},
   "outputs": [
    {
     "name": "stdout",
     "output_type": "stream",
     "text": [
      "Transformation Pipeline and Model Successfully Saved\n",
      "\n"
     ]
    },
    {
     "data": {
      "text/html": [
       "Waiting for W&B process to finish... <strong style=\"color:green\">(success).</strong>"
      ],
      "text/plain": [
       "<IPython.core.display.HTML object>"
      ]
     },
     "metadata": {},
     "output_type": "display_data"
    },
    {
     "data": {
      "application/vnd.jupyter.widget-view+json": {
       "model_id": "",
       "version_major": 2,
       "version_minor": 0
      },
      "text/plain": [
       "VBox(children=(Label(value='1.222 MB of 1.222 MB uploaded (0.000 MB deduped)\\r'), FloatProgress(value=1.0, max…"
      ]
     },
     "metadata": {},
     "output_type": "display_data"
    },
    {
     "data": {
      "text/html": [
       "Synced <strong style=\"color:#cdcd00\">train-seed-1-tabular-playground-series-mar-2022</strong>: <a href=\"https://wandb.ai/a-sh0ts/kaggle-tps-mar-2022-odsc/runs/fn5c7mpp\" target=\"_blank\">https://wandb.ai/a-sh0ts/kaggle-tps-mar-2022-odsc/runs/fn5c7mpp</a><br/>Synced 5 W&B file(s), 0 media file(s), 4 artifact file(s) and 0 other file(s)"
      ],
      "text/plain": [
       "<IPython.core.display.HTML object>"
      ]
     },
     "metadata": {},
     "output_type": "display_data"
    },
    {
     "data": {
      "text/html": [
       "Find logs at: <code>.\\wandb\\run-20220314_032109-fn5c7mpp\\logs</code>"
      ],
      "text/plain": [
       "<IPython.core.display.HTML object>"
      ]
     },
     "metadata": {},
     "output_type": "display_data"
    }
   ],
   "source": [
    "# save model\n",
    "model_title = f\"{competition}-{now}-{seed}\"\n",
    "save_model(tuned_finalized_model, model_title)\n",
    "\n",
    "# generate wandb tables from the results dfs from our experiment\n",
    "model_artifacts = wandb.Artifact(\"model_artifacts\", type=competition)\n",
    "\n",
    "model_comparison_results_table = wandb.Table(dataframe=model_comparison_results.drop([\"Index\", \"Model\", \"Name\"], axis=1))\n",
    "tuned_model_results_table = wandb.Table(dataframe=tuned_model_results)\n",
    "tuner_cv_results_table = wandb.Table(dataframe=tuner_cv_results)\n",
    "\n",
    "# add all objects to artifact\n",
    "model_artifacts.add(model_comparison_results_table, \"model_comparison_results_table\")\n",
    "model_artifacts.add(tuned_model_results_table, \"tuned_model_results_table\")\n",
    "model_artifacts.add(tuner_cv_results_table, \"tuner_cv_results_table\")\n",
    "model_artifacts.add_file(f\"{model_title}.pkl\", name=\"model.pkl\")\n",
    "\n",
    "run.log_artifact(model_artifacts)\n",
    "\n",
    "run.finish()\n",
    "\n",
    "# return None"
   ]
  },
  {
   "cell_type": "code",
   "execution_count": null,
   "id": "e3f526d9-732d-4986-bb96-82d1f4050fe6",
   "metadata": {},
   "outputs": [],
   "source": [
    "def configure_prefect_flow():\n",
    "\n",
    "    with Flow(\"run-tps-2022-e2e\") as flow:\n",
    "        competition = Parameter(\n",
    "            \"competition\", default=\"tabular-playground-series-mar-2022\")\n",
    "        project_name = Parameter(\n",
    "            \"project_name\", default=\"kaggle-tps-mar-2022-odsc\")\n",
    "        download_and_log_kaggle_data(competition=competition, project_name=project_name)\n",
    "        feature_engineer_log_tps_2022(competition=competition, project_name=project_name)\n",
    "\n",
    "    # Configure the `PROJECT` environment variable for this flow\n",
    "    flow.run_config = LocalRun(\n",
    "        env={\"KAGGLE_USERNAME\": os.environ[\"KAGGLE_USERNAME\"],\n",
    "             \"KAGGLE_KEY\": os.environ[\"KAGGLE_KEY\"], \"WANDB_API_KEY\": os.environ[\"WANDB_API_KEY\"]})\n",
    "\n",
    "    flow.register(project_name=\"odsc-east-2022\")\n",
    "    # flow.run()"
   ]
  }
 ],
 "metadata": {
  "kernelspec": {
   "display_name": "Python 3 (ipykernel)",
   "language": "python",
   "name": "python3"
  },
  "language_info": {
   "codemirror_mode": {
    "name": "ipython",
    "version": 3
   },
   "file_extension": ".py",
   "mimetype": "text/x-python",
   "name": "python",
   "nbconvert_exporter": "python",
   "pygments_lexer": "ipython3",
   "version": "3.9.6"
  }
 },
 "nbformat": 4,
 "nbformat_minor": 5
}

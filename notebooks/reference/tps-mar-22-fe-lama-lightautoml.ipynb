{
 "cells": [
  {
   "cell_type": "code",
   "execution_count": 1,
   "id": "333219b1",
   "metadata": {
    "_kg_hide-input": true,
    "execution": {
     "iopub.execute_input": "2022-03-03T18:05:26.537612Z",
     "iopub.status.busy": "2022-03-03T18:05:26.535055Z",
     "iopub.status.idle": "2022-03-03T18:05:26.563333Z",
     "shell.execute_reply": "2022-03-03T18:05:26.562422Z",
     "shell.execute_reply.started": "2022-03-03T17:47:43.303345Z"
    },
    "papermill": {
     "duration": 0.075945,
     "end_time": "2022-03-03T18:05:26.563536",
     "exception": false,
     "start_time": "2022-03-03T18:05:26.487591",
     "status": "completed"
    },
    "tags": []
   },
   "outputs": [
    {
     "data": {
      "text/html": [
       "<style> \n",
       "\n",
       "div #notebook {\n",
       "background-color: white;\n",
       "line-height: 20px;\n",
       "}\n",
       "\n",
       "#notebook-container {\n",
       "width: 95%;\n",
       "margin-top: 2em;\n",
       "padding-top: 2em;\n",
       "border-top: 4px solid #16a085; /* light orange */\n",
       "-webkit-box-shadow: 0px 0px 8px 2px rgba(224, 212, 226, 0.5); /* pink */\n",
       "    box-shadow: 0px 0px 8px 2px rgba(224, 212, 226, 0.5); /* pink */\n",
       "}\n",
       "\n",
       "div .input {\n",
       "margin-bottom: 1em;\n",
       "}\n",
       "\n",
       ".rendered_html h1, .rendered_html h2, .rendered_html h3, .rendered_html h4, .rendered_html h5, .rendered_html h6 {\n",
       "color: #16a085; /* light orange */\n",
       "font-weight: 600;\n",
       "}\n",
       "\n",
       "div.input_area {\n",
       "border: none;\n",
       "    background-color: rgba(22, 160, 133, 0.1); /* rgba(229, 143, 101, 0.1); light orange [exactly #E58F65] */\n",
       "    border-top: 2px solid #16a085; /* light orange */\n",
       "}\n",
       "\n",
       "div.input_prompt {\n",
       "color: #16a085; /* light blue */\n",
       "}\n",
       "\n",
       "div.output_prompt {\n",
       "color: #0b5345; /* strong orange */\n",
       "}\n",
       "\n",
       "div.cell.selected:before, div.cell.selected.jupyter-soft-selected:before {\n",
       "background: #16a085; /* light orange */\n",
       "}\n",
       "\n",
       "div.cell.selected, div.cell.selected.jupyter-soft-selected {\n",
       "    border-color: #16a085; /* light orange */\n",
       "}\n",
       "\n",
       ".edit_mode div.cell.selected:before {\n",
       "background: #16a085; /* light orange */\n",
       "}\n",
       "\n",
       ".edit_mode div.cell.selected {\n",
       "border-color: #16a085; /* light orange */\n",
       "\n",
       "}\n",
       "</style>"
      ],
      "text/plain": [
       "<IPython.core.display.HTML object>"
      ]
     },
     "execution_count": 1,
     "metadata": {},
     "output_type": "execute_result"
    }
   ],
   "source": [
    "from IPython.core.display import display, HTML, Javascript\n",
    "\n",
    "# ----- Notebook Theme -----\n",
    "color_map = ['#16a085', '#e8f6f3', '#d0ece7', '#a2d9ce', '#73c6b6', '#45b39d', \n",
    "                        '#16a085', '#138d75', '#117a65', '#0e6655', '#0b5345']\n",
    "\n",
    "prompt = color_map[-1]\n",
    "main_color = color_map[0]\n",
    "strong_main_color = color_map[1]\n",
    "custom_colors = [strong_main_color, main_color]\n",
    "\n",
    "css_file = ''' \n",
    "\n",
    "div #notebook {\n",
    "background-color: white;\n",
    "line-height: 20px;\n",
    "}\n",
    "\n",
    "#notebook-container {\n",
    "%s\n",
    "margin-top: 2em;\n",
    "padding-top: 2em;\n",
    "border-top: 4px solid %s; /* light orange */\n",
    "-webkit-box-shadow: 0px 0px 8px 2px rgba(224, 212, 226, 0.5); /* pink */\n",
    "    box-shadow: 0px 0px 8px 2px rgba(224, 212, 226, 0.5); /* pink */\n",
    "}\n",
    "\n",
    "div .input {\n",
    "margin-bottom: 1em;\n",
    "}\n",
    "\n",
    ".rendered_html h1, .rendered_html h2, .rendered_html h3, .rendered_html h4, .rendered_html h5, .rendered_html h6 {\n",
    "color: %s; /* light orange */\n",
    "font-weight: 600;\n",
    "}\n",
    "\n",
    "div.input_area {\n",
    "border: none;\n",
    "    background-color: %s; /* rgba(229, 143, 101, 0.1); light orange [exactly #E58F65] */\n",
    "    border-top: 2px solid %s; /* light orange */\n",
    "}\n",
    "\n",
    "div.input_prompt {\n",
    "color: %s; /* light blue */\n",
    "}\n",
    "\n",
    "div.output_prompt {\n",
    "color: %s; /* strong orange */\n",
    "}\n",
    "\n",
    "div.cell.selected:before, div.cell.selected.jupyter-soft-selected:before {\n",
    "background: %s; /* light orange */\n",
    "}\n",
    "\n",
    "div.cell.selected, div.cell.selected.jupyter-soft-selected {\n",
    "    border-color: %s; /* light orange */\n",
    "}\n",
    "\n",
    ".edit_mode div.cell.selected:before {\n",
    "background: %s; /* light orange */\n",
    "}\n",
    "\n",
    ".edit_mode div.cell.selected {\n",
    "border-color: %s; /* light orange */\n",
    "\n",
    "}\n",
    "'''\n",
    "def to_rgb(h): \n",
    "    return tuple(int(h[i:i+2], 16) for i in [0, 2, 4])\n",
    "\n",
    "main_color_rgba = 'rgba(%s, %s, %s, 0.1)' % (to_rgb(main_color[1:]))\n",
    "open('notebook.css', 'w').write(css_file % ('width: 95%;', main_color, main_color, main_color_rgba, main_color,  main_color, prompt, main_color, main_color, main_color, main_color))\n",
    "\n",
    "def nb(): \n",
    "    return HTML(\"<style>\" + open(\"notebook.css\", \"r\").read() + \"</style>\")\n",
    "nb()"
   ]
  },
  {
   "cell_type": "markdown",
   "id": "03b99ef1",
   "metadata": {
    "papermill": {
     "duration": 0.036464,
     "end_time": "2022-03-03T18:05:26.642772",
     "exception": false,
     "start_time": "2022-03-03T18:05:26.606308",
     "status": "completed"
    },
    "tags": []
   },
   "source": [
    "<img src=\"https://github.com/sberbank-ai-lab/LightAutoML/raw/master/imgs/LightAutoML_logo_big.png\" alt=\"LightAutoML logo\" style=\"width:70%;\"/>"
   ]
  },
  {
   "cell_type": "markdown",
   "id": "712c9732",
   "metadata": {
    "papermill": {
     "duration": 0.035334,
     "end_time": "2022-03-03T18:05:26.713900",
     "exception": false,
     "start_time": "2022-03-03T18:05:26.678566",
     "status": "completed"
    },
    "tags": []
   },
   "source": [
    "# LightAutoML baseline\n",
    "\n",
    "Official LightAutoML github repository is [here](https://github.com/sberbank-ai-lab/LightAutoML). \n",
    "\n",
    "### Do not forget to put upvote for the notebook and the ⭐️ for github repo if you like it using the button below - one click for you, great pleasure for us ☺️ "
   ]
  },
  {
   "cell_type": "code",
   "execution_count": 2,
   "id": "bccd72d2",
   "metadata": {
    "_kg_hide-input": true,
    "execution": {
     "iopub.execute_input": "2022-03-03T18:05:26.790506Z",
     "iopub.status.busy": "2022-03-03T18:05:26.789072Z",
     "iopub.status.idle": "2022-03-03T18:05:26.799581Z",
     "shell.execute_reply": "2022-03-03T18:05:26.800118Z",
     "shell.execute_reply.started": "2022-03-03T17:47:43.318748Z"
    },
    "papermill": {
     "duration": 0.050905,
     "end_time": "2022-03-03T18:05:26.800300",
     "exception": false,
     "start_time": "2022-03-03T18:05:26.749395",
     "status": "completed"
    },
    "tags": []
   },
   "outputs": [
    {
     "name": "stderr",
     "output_type": "stream",
     "text": [
      "/opt/conda/lib/python3.7/site-packages/IPython/core/display.py:724: UserWarning: Consider using IPython.display.IFrame instead\n",
      "  warnings.warn(\"Consider using IPython.display.IFrame instead\")\n"
     ]
    },
    {
     "data": {
      "text/html": [
       "<iframe src=\"https://ghbtns.com/github-btn.html?user=sberbank-ai-lab&repo=LightAutoML&type=star&count=true&size=large\" frameborder=\"0\" scrolling=\"0\" width=\"170\" height=\"30\" title=\"LightAutoML GitHub\"></iframe>"
      ],
      "text/plain": [
       "<IPython.core.display.HTML object>"
      ]
     },
     "execution_count": 2,
     "metadata": {},
     "output_type": "execute_result"
    }
   ],
   "source": [
    "s = '<iframe src=\"https://ghbtns.com/github-btn.html?user=sberbank-ai-lab&repo=LightAutoML&type=star&count=true&size=large\" frameborder=\"0\" scrolling=\"0\" width=\"170\" height=\"30\" title=\"LightAutoML GitHub\"></iframe>'\n",
    "HTML(s)"
   ]
  },
  {
   "cell_type": "markdown",
   "id": "57a8b744",
   "metadata": {
    "papermill": {
     "duration": 0.036886,
     "end_time": "2022-03-03T18:05:26.876268",
     "exception": false,
     "start_time": "2022-03-03T18:05:26.839382",
     "status": "completed"
    },
    "tags": []
   },
   "source": [
    "## 0. Prerequisites"
   ]
  },
  {
   "cell_type": "markdown",
   "id": "6b38a62f",
   "metadata": {
    "papermill": {
     "duration": 0.036936,
     "end_time": "2022-03-03T18:05:26.950625",
     "exception": false,
     "start_time": "2022-03-03T18:05:26.913689",
     "status": "completed"
    },
    "tags": []
   },
   "source": [
    "### 0.0. install LightAutoML"
   ]
  },
  {
   "cell_type": "code",
   "execution_count": 3,
   "id": "8581c1fd",
   "metadata": {
    "_kg_hide-input": false,
    "_kg_hide-output": false,
    "execution": {
     "iopub.execute_input": "2022-03-03T18:05:27.028383Z",
     "iopub.status.busy": "2022-03-03T18:05:27.027740Z",
     "iopub.status.idle": "2022-03-03T18:07:04.056162Z",
     "shell.execute_reply": "2022-03-03T18:07:04.055118Z",
     "shell.execute_reply.started": "2022-03-03T17:47:43.342692Z"
    },
    "papermill": {
     "duration": 97.068579,
     "end_time": "2022-03-03T18:07:04.056576",
     "exception": false,
     "start_time": "2022-03-03T18:05:26.987997",
     "status": "completed"
    },
    "tags": []
   },
   "outputs": [],
   "source": [
    "%%capture\n",
    "!pip install -U lightautoml"
   ]
  },
  {
   "cell_type": "markdown",
   "id": "774d2098",
   "metadata": {
    "papermill": {
     "duration": 0.039092,
     "end_time": "2022-03-03T18:07:04.137061",
     "exception": false,
     "start_time": "2022-03-03T18:07:04.097969",
     "status": "completed"
    },
    "tags": []
   },
   "source": [
    "### 0.1. Import libraries\n",
    "\n",
    "Here we will import the libraries we use in this kernel:\n",
    "- Standard python libraries for timing, working with OS etc.\n",
    "- Essential python DS libraries like numpy, pandas, scikit-learn and torch (the last we will use in the next cell)\n",
    "- LightAutoML modules: presets for AutoML, task and report generation module"
   ]
  },
  {
   "cell_type": "code",
   "execution_count": 4,
   "id": "f8e79a33",
   "metadata": {
    "execution": {
     "iopub.execute_input": "2022-03-03T18:07:04.222765Z",
     "iopub.status.busy": "2022-03-03T18:07:04.221666Z",
     "iopub.status.idle": "2022-03-03T18:07:07.906317Z",
     "shell.execute_reply": "2022-03-03T18:07:07.905657Z",
     "shell.execute_reply.started": "2022-03-03T17:47:54.196818Z"
    },
    "papermill": {
     "duration": 3.732021,
     "end_time": "2022-03-03T18:07:07.906484",
     "exception": false,
     "start_time": "2022-03-03T18:07:04.174463",
     "status": "completed"
    },
    "tags": []
   },
   "outputs": [
    {
     "data": {
      "text/html": [
       "<style type='text/css'>\n",
       ".datatable table.frame { margin-bottom: 0; }\n",
       ".datatable table.frame thead { border-bottom: none; }\n",
       ".datatable table.frame tr.coltypes td {  color: #FFFFFF;  line-height: 6px;  padding: 0 0.5em;}\n",
       ".datatable .bool    { background: #DDDD99; }\n",
       ".datatable .object  { background: #565656; }\n",
       ".datatable .int     { background: #5D9E5D; }\n",
       ".datatable .float   { background: #4040CC; }\n",
       ".datatable .str     { background: #CC4040; }\n",
       ".datatable .time    { background: #40CC40; }\n",
       ".datatable .row_index {  background: var(--jp-border-color3);  border-right: 1px solid var(--jp-border-color0);  color: var(--jp-ui-font-color3);  font-size: 9px;}\n",
       ".datatable .frame tbody td { text-align: left; }\n",
       ".datatable .frame tr.coltypes .row_index {  background: var(--jp-border-color0);}\n",
       ".datatable th:nth-child(2) { padding-left: 12px; }\n",
       ".datatable .hellipsis {  color: var(--jp-cell-editor-border-color);}\n",
       ".datatable .vellipsis {  background: var(--jp-layout-color0);  color: var(--jp-cell-editor-border-color);}\n",
       ".datatable .na {  color: var(--jp-cell-editor-border-color);  font-size: 80%;}\n",
       ".datatable .sp {  opacity: 0.25;}\n",
       ".datatable .footer { font-size: 9px; }\n",
       ".datatable .frame_dimensions {  background: var(--jp-border-color3);  border-top: 1px solid var(--jp-border-color0);  color: var(--jp-ui-font-color3);  display: inline-block;  opacity: 0.6;  padding: 1px 10px 1px 5px;}\n",
       "</style>\n"
      ],
      "text/plain": [
       "<IPython.core.display.HTML object>"
      ]
     },
     "metadata": {},
     "output_type": "display_data"
    }
   ],
   "source": [
    "# Standard python libraries\n",
    "import os\n",
    "import time\n",
    "\n",
    "# Essential DS libraries\n",
    "import numpy as np\n",
    "import pandas as pd\n",
    "from sklearn.metrics import log_loss, accuracy_score\n",
    "from sklearn.model_selection import train_test_split\n",
    "import torch\n",
    "\n",
    "# LightAutoML presets, task and report generation\n",
    "from lightautoml.automl.presets.tabular_presets import TabularAutoML, TabularUtilizedAutoML\n",
    "from lightautoml.tasks import Task\n",
    "from lightautoml.report.report_deco import ReportDeco"
   ]
  },
  {
   "cell_type": "markdown",
   "id": "33d70a45",
   "metadata": {
    "papermill": {
     "duration": 0.043938,
     "end_time": "2022-03-03T18:07:07.992463",
     "exception": false,
     "start_time": "2022-03-03T18:07:07.948525",
     "status": "completed"
    },
    "tags": []
   },
   "source": [
    "### 0.2. Constants\n",
    "\n",
    "Here we setup the constants to use in the kernel:\n",
    "- `N_THREADS` - number of vCPUs for LightAutoML model creation\n",
    "- `RANDOM_STATE` - random seed for better reproducibility\n",
    "- `TEST_SIZE` - houldout data part size \n",
    "- `TIMEOUT` - limit in seconds for model to train\n",
    "- `TARGET_NAME` - target column name in dataset"
   ]
  },
  {
   "cell_type": "code",
   "execution_count": 5,
   "id": "e5b2dc28",
   "metadata": {
    "execution": {
     "iopub.execute_input": "2022-03-03T18:07:08.072421Z",
     "iopub.status.busy": "2022-03-03T18:07:08.071750Z",
     "iopub.status.idle": "2022-03-03T18:07:08.076947Z",
     "shell.execute_reply": "2022-03-03T18:07:08.077596Z",
     "shell.execute_reply.started": "2022-03-03T17:47:54.206076Z"
    },
    "papermill": {
     "duration": 0.0478,
     "end_time": "2022-03-03T18:07:08.077778",
     "exception": false,
     "start_time": "2022-03-03T18:07:08.029978",
     "status": "completed"
    },
    "tags": []
   },
   "outputs": [],
   "source": [
    "N_THREADS = 4 \n",
    "RANDOM_STATE = 21\n",
    "TIMEOUT = 8 * 3600\n",
    "TARGET_NAME = 'congestion'"
   ]
  },
  {
   "cell_type": "markdown",
   "id": "cb842cc2",
   "metadata": {
    "papermill": {
     "duration": 0.037697,
     "end_time": "2022-03-03T18:07:08.153940",
     "exception": false,
     "start_time": "2022-03-03T18:07:08.116243",
     "status": "completed"
    },
    "tags": []
   },
   "source": [
    "### 0.3. Imported models setup\n",
    "\n",
    "For better reproducibility fix numpy random seed with max number of threads for Torch (which usually try to use all the threads on server):"
   ]
  },
  {
   "cell_type": "code",
   "execution_count": 6,
   "id": "0fe23d77",
   "metadata": {
    "execution": {
     "iopub.execute_input": "2022-03-03T18:07:08.233756Z",
     "iopub.status.busy": "2022-03-03T18:07:08.232807Z",
     "iopub.status.idle": "2022-03-03T18:07:08.277056Z",
     "shell.execute_reply": "2022-03-03T18:07:08.277704Z",
     "shell.execute_reply.started": "2022-03-03T17:47:54.224394Z"
    },
    "papermill": {
     "duration": 0.085816,
     "end_time": "2022-03-03T18:07:08.277951",
     "exception": false,
     "start_time": "2022-03-03T18:07:08.192135",
     "status": "completed"
    },
    "tags": []
   },
   "outputs": [],
   "source": [
    "np.random.seed(RANDOM_STATE)\n",
    "torch.set_num_threads(N_THREADS)"
   ]
  },
  {
   "cell_type": "markdown",
   "id": "e3977979",
   "metadata": {
    "papermill": {
     "duration": 0.03724,
     "end_time": "2022-03-03T18:07:08.361732",
     "exception": false,
     "start_time": "2022-03-03T18:07:08.324492",
     "status": "completed"
    },
    "tags": []
   },
   "source": [
    "### 0.4. Data loading\n",
    "Let's check the data we have:"
   ]
  },
  {
   "cell_type": "code",
   "execution_count": 7,
   "id": "c1174d88",
   "metadata": {
    "execution": {
     "iopub.execute_input": "2022-03-03T18:07:08.443039Z",
     "iopub.status.busy": "2022-03-03T18:07:08.442038Z",
     "iopub.status.idle": "2022-03-03T18:07:08.445127Z",
     "shell.execute_reply": "2022-03-03T18:07:08.444469Z",
     "shell.execute_reply.started": "2022-03-03T17:47:54.248003Z"
    },
    "papermill": {
     "duration": 0.045077,
     "end_time": "2022-03-03T18:07:08.445272",
     "exception": false,
     "start_time": "2022-03-03T18:07:08.400195",
     "status": "completed"
    },
    "tags": []
   },
   "outputs": [],
   "source": [
    "INPUT_DIR = '../input/tabular-playground-series-mar-2022/'"
   ]
  },
  {
   "cell_type": "code",
   "execution_count": 8,
   "id": "17d64470",
   "metadata": {
    "execution": {
     "iopub.execute_input": "2022-03-03T18:07:08.526535Z",
     "iopub.status.busy": "2022-03-03T18:07:08.525857Z",
     "iopub.status.idle": "2022-03-03T18:07:09.449233Z",
     "shell.execute_reply": "2022-03-03T18:07:09.449790Z",
     "shell.execute_reply.started": "2022-03-03T17:47:54.263579Z"
    },
    "papermill": {
     "duration": 0.967515,
     "end_time": "2022-03-03T18:07:09.450021",
     "exception": false,
     "start_time": "2022-03-03T18:07:08.482506",
     "status": "completed"
    },
    "tags": []
   },
   "outputs": [
    {
     "name": "stdout",
     "output_type": "stream",
     "text": [
      "(848835, 6)\n"
     ]
    },
    {
     "data": {
      "text/html": [
       "<div>\n",
       "<style scoped>\n",
       "    .dataframe tbody tr th:only-of-type {\n",
       "        vertical-align: middle;\n",
       "    }\n",
       "\n",
       "    .dataframe tbody tr th {\n",
       "        vertical-align: top;\n",
       "    }\n",
       "\n",
       "    .dataframe thead th {\n",
       "        text-align: right;\n",
       "    }\n",
       "</style>\n",
       "<table border=\"1\" class=\"dataframe\">\n",
       "  <thead>\n",
       "    <tr style=\"text-align: right;\">\n",
       "      <th></th>\n",
       "      <th>row_id</th>\n",
       "      <th>time</th>\n",
       "      <th>x</th>\n",
       "      <th>y</th>\n",
       "      <th>direction</th>\n",
       "      <th>congestion</th>\n",
       "    </tr>\n",
       "  </thead>\n",
       "  <tbody>\n",
       "    <tr>\n",
       "      <th>0</th>\n",
       "      <td>0</td>\n",
       "      <td>1991-04-01 00:00:00</td>\n",
       "      <td>0</td>\n",
       "      <td>0</td>\n",
       "      <td>EB</td>\n",
       "      <td>70</td>\n",
       "    </tr>\n",
       "    <tr>\n",
       "      <th>1</th>\n",
       "      <td>1</td>\n",
       "      <td>1991-04-01 00:00:00</td>\n",
       "      <td>0</td>\n",
       "      <td>0</td>\n",
       "      <td>NB</td>\n",
       "      <td>49</td>\n",
       "    </tr>\n",
       "    <tr>\n",
       "      <th>2</th>\n",
       "      <td>2</td>\n",
       "      <td>1991-04-01 00:00:00</td>\n",
       "      <td>0</td>\n",
       "      <td>0</td>\n",
       "      <td>SB</td>\n",
       "      <td>24</td>\n",
       "    </tr>\n",
       "    <tr>\n",
       "      <th>3</th>\n",
       "      <td>3</td>\n",
       "      <td>1991-04-01 00:00:00</td>\n",
       "      <td>0</td>\n",
       "      <td>1</td>\n",
       "      <td>EB</td>\n",
       "      <td>18</td>\n",
       "    </tr>\n",
       "    <tr>\n",
       "      <th>4</th>\n",
       "      <td>4</td>\n",
       "      <td>1991-04-01 00:00:00</td>\n",
       "      <td>0</td>\n",
       "      <td>1</td>\n",
       "      <td>NB</td>\n",
       "      <td>60</td>\n",
       "    </tr>\n",
       "  </tbody>\n",
       "</table>\n",
       "</div>"
      ],
      "text/plain": [
       "   row_id                 time  x  y direction  congestion\n",
       "0       0  1991-04-01 00:00:00  0  0        EB          70\n",
       "1       1  1991-04-01 00:00:00  0  0        NB          49\n",
       "2       2  1991-04-01 00:00:00  0  0        SB          24\n",
       "3       3  1991-04-01 00:00:00  0  1        EB          18\n",
       "4       4  1991-04-01 00:00:00  0  1        NB          60"
      ]
     },
     "execution_count": 8,
     "metadata": {},
     "output_type": "execute_result"
    }
   ],
   "source": [
    "train_data = pd.read_csv(INPUT_DIR + 'train.csv', dtype={'time': str})\n",
    "print(train_data.shape)\n",
    "train_data.head()"
   ]
  },
  {
   "cell_type": "code",
   "execution_count": 9,
   "id": "50812be7",
   "metadata": {
    "execution": {
     "iopub.execute_input": "2022-03-03T18:07:09.542109Z",
     "iopub.status.busy": "2022-03-03T18:07:09.541345Z",
     "iopub.status.idle": "2022-03-03T18:07:09.755943Z",
     "shell.execute_reply": "2022-03-03T18:07:09.755355Z",
     "shell.execute_reply.started": "2022-03-03T17:47:54.613614Z"
    },
    "papermill": {
     "duration": 0.263599,
     "end_time": "2022-03-03T18:07:09.756115",
     "exception": false,
     "start_time": "2022-03-03T18:07:09.492516",
     "status": "completed"
    },
    "tags": []
   },
   "outputs": [
    {
     "name": "stdout",
     "output_type": "stream",
     "text": [
      "<class 'pandas.core.frame.DataFrame'>\n",
      "RangeIndex: 848835 entries, 0 to 848834\n",
      "Data columns (total 6 columns):\n",
      " #   Column      Non-Null Count   Dtype \n",
      "---  ------      --------------   ----- \n",
      " 0   row_id      848835 non-null  int64 \n",
      " 1   time        848835 non-null  object\n",
      " 2   x           848835 non-null  int64 \n",
      " 3   y           848835 non-null  int64 \n",
      " 4   direction   848835 non-null  object\n",
      " 5   congestion  848835 non-null  int64 \n",
      "dtypes: int64(4), object(2)\n",
      "memory usage: 38.9+ MB\n"
     ]
    }
   ],
   "source": [
    "train_data.info()"
   ]
  },
  {
   "cell_type": "code",
   "execution_count": 10,
   "id": "0d9d9a9b",
   "metadata": {
    "execution": {
     "iopub.execute_input": "2022-03-03T18:07:09.846307Z",
     "iopub.status.busy": "2022-03-03T18:07:09.845488Z",
     "iopub.status.idle": "2022-03-03T18:07:09.866581Z",
     "shell.execute_reply": "2022-03-03T18:07:09.866018Z",
     "shell.execute_reply.started": "2022-03-03T17:47:54.699203Z"
    },
    "papermill": {
     "duration": 0.070105,
     "end_time": "2022-03-03T18:07:09.866746",
     "exception": false,
     "start_time": "2022-03-03T18:07:09.796641",
     "status": "completed"
    },
    "tags": []
   },
   "outputs": [
    {
     "name": "stdout",
     "output_type": "stream",
     "text": [
      "(2340, 5)\n"
     ]
    },
    {
     "data": {
      "text/html": [
       "<div>\n",
       "<style scoped>\n",
       "    .dataframe tbody tr th:only-of-type {\n",
       "        vertical-align: middle;\n",
       "    }\n",
       "\n",
       "    .dataframe tbody tr th {\n",
       "        vertical-align: top;\n",
       "    }\n",
       "\n",
       "    .dataframe thead th {\n",
       "        text-align: right;\n",
       "    }\n",
       "</style>\n",
       "<table border=\"1\" class=\"dataframe\">\n",
       "  <thead>\n",
       "    <tr style=\"text-align: right;\">\n",
       "      <th></th>\n",
       "      <th>row_id</th>\n",
       "      <th>time</th>\n",
       "      <th>x</th>\n",
       "      <th>y</th>\n",
       "      <th>direction</th>\n",
       "    </tr>\n",
       "  </thead>\n",
       "  <tbody>\n",
       "    <tr>\n",
       "      <th>0</th>\n",
       "      <td>848835</td>\n",
       "      <td>1991-09-30 12:00:00</td>\n",
       "      <td>0</td>\n",
       "      <td>0</td>\n",
       "      <td>EB</td>\n",
       "    </tr>\n",
       "    <tr>\n",
       "      <th>1</th>\n",
       "      <td>848836</td>\n",
       "      <td>1991-09-30 12:00:00</td>\n",
       "      <td>0</td>\n",
       "      <td>0</td>\n",
       "      <td>NB</td>\n",
       "    </tr>\n",
       "    <tr>\n",
       "      <th>2</th>\n",
       "      <td>848837</td>\n",
       "      <td>1991-09-30 12:00:00</td>\n",
       "      <td>0</td>\n",
       "      <td>0</td>\n",
       "      <td>SB</td>\n",
       "    </tr>\n",
       "    <tr>\n",
       "      <th>3</th>\n",
       "      <td>848838</td>\n",
       "      <td>1991-09-30 12:00:00</td>\n",
       "      <td>0</td>\n",
       "      <td>1</td>\n",
       "      <td>EB</td>\n",
       "    </tr>\n",
       "    <tr>\n",
       "      <th>4</th>\n",
       "      <td>848839</td>\n",
       "      <td>1991-09-30 12:00:00</td>\n",
       "      <td>0</td>\n",
       "      <td>1</td>\n",
       "      <td>NB</td>\n",
       "    </tr>\n",
       "  </tbody>\n",
       "</table>\n",
       "</div>"
      ],
      "text/plain": [
       "   row_id                 time  x  y direction\n",
       "0  848835  1991-09-30 12:00:00  0  0        EB\n",
       "1  848836  1991-09-30 12:00:00  0  0        NB\n",
       "2  848837  1991-09-30 12:00:00  0  0        SB\n",
       "3  848838  1991-09-30 12:00:00  0  1        EB\n",
       "4  848839  1991-09-30 12:00:00  0  1        NB"
      ]
     },
     "execution_count": 10,
     "metadata": {},
     "output_type": "execute_result"
    }
   ],
   "source": [
    "test_data = pd.read_csv(INPUT_DIR + 'test.csv', dtype={'time': str})\n",
    "print(test_data.shape)\n",
    "test_data.head()"
   ]
  },
  {
   "cell_type": "code",
   "execution_count": 11,
   "id": "cc717bfb",
   "metadata": {
    "execution": {
     "iopub.execute_input": "2022-03-03T18:07:09.970993Z",
     "iopub.status.busy": "2022-03-03T18:07:09.970259Z",
     "iopub.status.idle": "2022-03-03T18:07:09.976340Z",
     "shell.execute_reply": "2022-03-03T18:07:09.976806Z",
     "shell.execute_reply.started": "2022-03-03T17:47:54.726176Z"
    },
    "papermill": {
     "duration": 0.068685,
     "end_time": "2022-03-03T18:07:09.977019",
     "exception": false,
     "start_time": "2022-03-03T18:07:09.908334",
     "status": "completed"
    },
    "tags": []
   },
   "outputs": [
    {
     "name": "stdout",
     "output_type": "stream",
     "text": [
      "<class 'pandas.core.frame.DataFrame'>\n",
      "RangeIndex: 2340 entries, 0 to 2339\n",
      "Data columns (total 5 columns):\n",
      " #   Column     Non-Null Count  Dtype \n",
      "---  ------     --------------  ----- \n",
      " 0   row_id     2340 non-null   int64 \n",
      " 1   time       2340 non-null   object\n",
      " 2   x          2340 non-null   int64 \n",
      " 3   y          2340 non-null   int64 \n",
      " 4   direction  2340 non-null   object\n",
      "dtypes: int64(3), object(2)\n",
      "memory usage: 91.5+ KB\n"
     ]
    }
   ],
   "source": [
    "test_data.info()"
   ]
  },
  {
   "cell_type": "code",
   "execution_count": 12,
   "id": "d3d13864",
   "metadata": {
    "execution": {
     "iopub.execute_input": "2022-03-03T18:07:10.064593Z",
     "iopub.status.busy": "2022-03-03T18:07:10.063917Z",
     "iopub.status.idle": "2022-03-03T18:07:10.082553Z",
     "shell.execute_reply": "2022-03-03T18:07:10.081806Z",
     "shell.execute_reply.started": "2022-03-03T17:47:54.740811Z"
    },
    "papermill": {
     "duration": 0.064952,
     "end_time": "2022-03-03T18:07:10.082703",
     "exception": false,
     "start_time": "2022-03-03T18:07:10.017751",
     "status": "completed"
    },
    "tags": []
   },
   "outputs": [
    {
     "name": "stdout",
     "output_type": "stream",
     "text": [
      "(2340, 2)\n"
     ]
    },
    {
     "data": {
      "text/html": [
       "<div>\n",
       "<style scoped>\n",
       "    .dataframe tbody tr th:only-of-type {\n",
       "        vertical-align: middle;\n",
       "    }\n",
       "\n",
       "    .dataframe tbody tr th {\n",
       "        vertical-align: top;\n",
       "    }\n",
       "\n",
       "    .dataframe thead th {\n",
       "        text-align: right;\n",
       "    }\n",
       "</style>\n",
       "<table border=\"1\" class=\"dataframe\">\n",
       "  <thead>\n",
       "    <tr style=\"text-align: right;\">\n",
       "      <th></th>\n",
       "      <th>row_id</th>\n",
       "      <th>congestion</th>\n",
       "    </tr>\n",
       "  </thead>\n",
       "  <tbody>\n",
       "    <tr>\n",
       "      <th>0</th>\n",
       "      <td>848835</td>\n",
       "      <td>0.0</td>\n",
       "    </tr>\n",
       "    <tr>\n",
       "      <th>1</th>\n",
       "      <td>848836</td>\n",
       "      <td>0.0</td>\n",
       "    </tr>\n",
       "    <tr>\n",
       "      <th>2</th>\n",
       "      <td>848837</td>\n",
       "      <td>0.0</td>\n",
       "    </tr>\n",
       "    <tr>\n",
       "      <th>3</th>\n",
       "      <td>848838</td>\n",
       "      <td>0.0</td>\n",
       "    </tr>\n",
       "    <tr>\n",
       "      <th>4</th>\n",
       "      <td>848839</td>\n",
       "      <td>0.0</td>\n",
       "    </tr>\n",
       "  </tbody>\n",
       "</table>\n",
       "</div>"
      ],
      "text/plain": [
       "   row_id  congestion\n",
       "0  848835         0.0\n",
       "1  848836         0.0\n",
       "2  848837         0.0\n",
       "3  848838         0.0\n",
       "4  848839         0.0"
      ]
     },
     "execution_count": 12,
     "metadata": {},
     "output_type": "execute_result"
    }
   ],
   "source": [
    "submission = pd.read_csv(INPUT_DIR + 'sample_submission.csv')\n",
    "print(submission.shape)\n",
    "submission.head()"
   ]
  },
  {
   "cell_type": "markdown",
   "id": "d9b64814",
   "metadata": {
    "papermill": {
     "duration": 0.041578,
     "end_time": "2022-03-03T18:07:10.166467",
     "exception": false,
     "start_time": "2022-03-03T18:07:10.124889",
     "status": "completed"
    },
    "tags": []
   },
   "source": [
    "### 0.5. Feature engineering\n",
    "Let's make some new features:"
   ]
  },
  {
   "cell_type": "code",
   "execution_count": 13,
   "id": "9df463f6",
   "metadata": {
    "execution": {
     "iopub.execute_input": "2022-03-03T18:07:10.267963Z",
     "iopub.status.busy": "2022-03-03T18:07:10.265410Z",
     "iopub.status.idle": "2022-03-03T18:07:10.271650Z",
     "shell.execute_reply": "2022-03-03T18:07:10.271100Z",
     "shell.execute_reply.started": "2022-03-03T17:47:54.771798Z"
    },
    "papermill": {
     "duration": 0.062743,
     "end_time": "2022-03-03T18:07:10.271791",
     "exception": false,
     "start_time": "2022-03-03T18:07:10.209048",
     "status": "completed"
    },
    "tags": []
   },
   "outputs": [],
   "source": [
    "def feature_engineering(data):\n",
    "    data['time'] = pd.to_datetime(data['time'])\n",
    "    data['month'] = data['time'].dt.month\n",
    "    data['weekday'] = data['time'].dt.weekday\n",
    "    data['hour'] = data['time'].dt.hour\n",
    "    data['minute'] = data['time'].dt.minute\n",
    "    data['is_month_start'] = data['time'].dt.is_month_start.astype('int')\n",
    "    data['is_month_end'] = data['time'].dt.is_month_end.astype('int')\n",
    "    data['hour+minute'] = data['time'].dt.hour * 60 + data['time'].dt.minute\n",
    "    data['is_weekend'] = (data['time'].dt.dayofweek > 4).astype('int')\n",
    "    data['is_afternoon'] = (data['time'].dt.hour > 12).astype('int')\n",
    "    data['x+y'] = data['x'].astype('str') + data['y'].astype('str')\n",
    "    data['x+y+direction'] = data['x'].astype('str') + data['y'].astype('str') + data['direction'].astype('str')\n",
    "    data['hour+direction'] = data['hour'].astype('str') + data['direction'].astype('str')\n",
    "    data['hour+x+y'] = data['hour'].astype('str') + data['x'].astype('str') + data['y'].astype('str')\n",
    "    data['hour+direction+x'] = data['hour'].astype('str') + data['direction'].astype('str') + data['x'].astype('str')\n",
    "    data['hour+direction+y'] = data['hour'].astype('str') + data['direction'].astype('str') + data['y'].astype('str')\n",
    "    data['hour+direction+x+y'] = data['hour'].astype('str') + data['direction'].astype('str') + data['x'].astype('str') + data['y'].astype('str')\n",
    "    data['hour+x'] = data['hour'].astype('str') + data['x'].astype('str')\n",
    "    data['hour+y'] = data['hour'].astype('str') + data['y'].astype('str')\n",
    "    data = data.drop(['time'], axis=1)\n",
    "    return data"
   ]
  },
  {
   "cell_type": "code",
   "execution_count": 14,
   "id": "54940295",
   "metadata": {
    "execution": {
     "iopub.execute_input": "2022-03-03T18:07:10.411040Z",
     "iopub.status.busy": "2022-03-03T18:07:10.410066Z",
     "iopub.status.idle": "2022-03-03T18:07:32.083866Z",
     "shell.execute_reply": "2022-03-03T18:07:32.082611Z",
     "shell.execute_reply.started": "2022-03-03T17:47:54.791211Z"
    },
    "papermill": {
     "duration": 21.770888,
     "end_time": "2022-03-03T18:07:32.084096",
     "exception": false,
     "start_time": "2022-03-03T18:07:10.313208",
     "status": "completed"
    },
    "tags": []
   },
   "outputs": [],
   "source": [
    "for data in [train_data, test_data]:\n",
    "    data = feature_engineering(data)"
   ]
  },
  {
   "cell_type": "markdown",
   "id": "9cf3bd17",
   "metadata": {
    "papermill": {
     "duration": 0.044499,
     "end_time": "2022-03-03T18:07:32.174573",
     "exception": false,
     "start_time": "2022-03-03T18:07:32.130074",
     "status": "completed"
    },
    "tags": []
   },
   "source": [
    "# 1. Task definition"
   ]
  },
  {
   "cell_type": "markdown",
   "id": "e8990cc4",
   "metadata": {
    "execution": {
     "iopub.execute_input": "2022-03-03T07:13:10.76383Z",
     "iopub.status.busy": "2022-03-03T07:13:10.763538Z",
     "iopub.status.idle": "2022-03-03T07:13:10.770524Z",
     "shell.execute_reply": "2022-03-03T07:13:10.769341Z",
     "shell.execute_reply.started": "2022-03-03T07:13:10.763803Z"
    },
    "papermill": {
     "duration": 0.043545,
     "end_time": "2022-03-03T18:07:32.266879",
     "exception": false,
     "start_time": "2022-03-03T18:07:32.223334",
     "status": "completed"
    },
    "tags": []
   },
   "source": [
    "### 1.1. Task type\n",
    "\n",
    "On the cell below we create Task object - the class to setup what task LightAutoML model should solve with specific loss and metric if necessary (more info can be found [here](https://lightautoml.readthedocs.io/en/latest/generated/lightautoml.tasks.base.Task.html#lightautoml.tasks.base.Task) in our documentation):"
   ]
  },
  {
   "cell_type": "code",
   "execution_count": 15,
   "id": "8d11a4eb",
   "metadata": {
    "execution": {
     "iopub.execute_input": "2022-03-03T18:07:32.368390Z",
     "iopub.status.busy": "2022-03-03T18:07:32.367619Z",
     "iopub.status.idle": "2022-03-03T18:07:32.369446Z",
     "shell.execute_reply": "2022-03-03T18:07:32.369900Z",
     "shell.execute_reply.started": "2022-03-03T17:48:08.701431Z"
    },
    "papermill": {
     "duration": 0.057079,
     "end_time": "2022-03-03T18:07:32.370106",
     "exception": false,
     "start_time": "2022-03-03T18:07:32.313027",
     "status": "completed"
    },
    "tags": []
   },
   "outputs": [],
   "source": [
    "task = Task('reg', metric='mae', loss='mae')"
   ]
  },
  {
   "cell_type": "markdown",
   "id": "592c5ff7",
   "metadata": {
    "papermill": {
     "duration": 0.04686,
     "end_time": "2022-03-03T18:07:32.463516",
     "exception": false,
     "start_time": "2022-03-03T18:07:32.416656",
     "status": "completed"
    },
    "tags": []
   },
   "source": [
    "### 1.2. Feature roles setup\n",
    "To solve the task, we need to setup columns roles. The **only role you must setup is target role**, everything else (drop, numeric, categorical, group, weights etc.) is up to user - LightAutoML models have automatic columns typization inside:"
   ]
  },
  {
   "cell_type": "code",
   "execution_count": 16,
   "id": "fa4e5a2c",
   "metadata": {
    "execution": {
     "iopub.execute_input": "2022-03-03T18:07:32.567383Z",
     "iopub.status.busy": "2022-03-03T18:07:32.566575Z",
     "iopub.status.idle": "2022-03-03T18:07:32.569893Z",
     "shell.execute_reply": "2022-03-03T18:07:32.570388Z",
     "shell.execute_reply.started": "2022-03-03T17:48:08.709560Z"
    },
    "papermill": {
     "duration": 0.059255,
     "end_time": "2022-03-03T18:07:32.570587",
     "exception": false,
     "start_time": "2022-03-03T18:07:32.511332",
     "status": "completed"
    },
    "tags": []
   },
   "outputs": [],
   "source": [
    "roles = {'target': TARGET_NAME,\n",
    "         'drop': ['row_id']\n",
    "         }"
   ]
  },
  {
   "cell_type": "markdown",
   "id": "375e8a92",
   "metadata": {
    "papermill": {
     "duration": 0.040704,
     "end_time": "2022-03-03T18:07:32.655045",
     "exception": false,
     "start_time": "2022-03-03T18:07:32.614341",
     "status": "completed"
    },
    "tags": []
   },
   "source": [
    "### 1.3. LightAutoML model creation - TabularAutoML preset"
   ]
  },
  {
   "cell_type": "markdown",
   "id": "5a96dc3e",
   "metadata": {
    "papermill": {
     "duration": 0.04085,
     "end_time": "2022-03-03T18:07:32.736797",
     "exception": false,
     "start_time": "2022-03-03T18:07:32.695947",
     "status": "completed"
    },
    "tags": []
   },
   "source": [
    "In next the cell we are going to create LightAutoML model with `TabularAutoML` class - preset with default model structure like in the image below:\n",
    "\n",
    "<img src=\"https://github.com/sberbank-ai-lab/LightAutoML/raw/master/imgs/tutorial_blackbox_pipeline.png\" alt=\"TabularAutoML preset pipeline\" style=\"width:85%;\"/>\n",
    "\n",
    "in just several lines. Let's discuss the params we can setup:\n",
    "- `task` - the type of the ML task (the only **must have** parameter)\n",
    "- `timeout` - time limit in seconds for model to train\n",
    "- `cpu_limit` - vCPU count for model to use\n",
    "- `reader_params` - parameter change for Reader object inside preset, which works on the first step of data preparation: automatic feature typization, preliminary almost-constant features, correct CV setup etc. For example, we setup `n_jobs` threads for typization algo, `cv` folds and `random_state` as inside CV seed.\n",
    "\n",
    "**Important note**: `reader_params` key is one of the YAML config keys, which is used inside `TabularAutoML` preset. [More details](https://github.com/sberbank-ai-lab/LightAutoML/blob/master/lightautoml/automl/presets/tabular_config.yml) on its structure with explanation comments can be found on the link attached. Each key from this config can be modified with user settings during preset object initialization. To get more info about different parameters setting (for example, ML algos which can be used in `general_params->use_algos`) please take a look at our [article on TowardsDataScience](https://towardsdatascience.com/lightautoml-preset-usage-tutorial-2cce7da6f936).\n",
    "\n",
    "Moreover, to receive the automatic report for our model we will use `ReportDeco` decorator and work with the decorated version in the same way as we do with usual one. "
   ]
  },
  {
   "cell_type": "code",
   "execution_count": 17,
   "id": "890227ed",
   "metadata": {
    "execution": {
     "iopub.execute_input": "2022-03-03T18:07:32.822416Z",
     "iopub.status.busy": "2022-03-03T18:07:32.821742Z",
     "iopub.status.idle": "2022-03-03T18:07:32.848216Z",
     "shell.execute_reply": "2022-03-03T18:07:32.848892Z",
     "shell.execute_reply.started": "2022-03-03T17:48:08.729826Z"
    },
    "papermill": {
     "duration": 0.071439,
     "end_time": "2022-03-03T18:07:32.849097",
     "exception": false,
     "start_time": "2022-03-03T18:07:32.777658",
     "status": "completed"
    },
    "tags": []
   },
   "outputs": [
    {
     "name": "stdout",
     "output_type": "stream",
     "text": [
      "CPU times: user 19.6 ms, sys: 0 ns, total: 19.6 ms\n",
      "Wall time: 19.6 ms\n"
     ]
    }
   ],
   "source": [
    "%%time \n",
    "\n",
    "automl = TabularAutoML(task = task,\n",
    "                       timeout = TIMEOUT,\n",
    "                       cpu_limit = N_THREADS,\n",
    "                       reader_params = {'n_jobs': N_THREADS, 'random_state': RANDOM_STATE},\n",
    "                       general_params = {'use_algos': [['lgb']]}\n",
    "                      )"
   ]
  },
  {
   "cell_type": "markdown",
   "id": "869750c8",
   "metadata": {
    "papermill": {
     "duration": 0.047147,
     "end_time": "2022-03-03T18:07:32.945463",
     "exception": false,
     "start_time": "2022-03-03T18:07:32.898316",
     "status": "completed"
    },
    "tags": []
   },
   "source": [
    "# 2. AutoML training"
   ]
  },
  {
   "cell_type": "markdown",
   "id": "30b5246b",
   "metadata": {
    "papermill": {
     "duration": 0.045767,
     "end_time": "2022-03-03T18:07:33.039469",
     "exception": false,
     "start_time": "2022-03-03T18:07:32.993702",
     "status": "completed"
    },
    "tags": []
   },
   "source": [
    "To run autoML training use fit_predict method:\n",
    "- `train_data` - Dataset to train.\n",
    "- `roles` - Roles dict.\n",
    "- `verbose` - Controls the verbosity: the higher, the more messages.\n",
    "        <1  : messages are not displayed;\n",
    "        >=1 : the computation process for layers is displayed;\n",
    "        >=2 : the information about folds processing is also displayed;\n",
    "        >=3 : the hyperparameters optimization process is also displayed;\n",
    "        >=4 : the training process for every algorithm is displayed;\n",
    "\n",
    "Note: out-of-fold prediction is calculated during training and returned from the fit_predict method"
   ]
  },
  {
   "cell_type": "code",
   "execution_count": 18,
   "id": "2f9ef717",
   "metadata": {
    "_kg_hide-output": true,
    "execution": {
     "iopub.execute_input": "2022-03-03T18:07:33.150303Z",
     "iopub.status.busy": "2022-03-03T18:07:33.149423Z",
     "iopub.status.idle": "2022-03-03T18:29:18.739296Z",
     "shell.execute_reply": "2022-03-03T18:29:18.738610Z",
     "shell.execute_reply.started": "2022-03-03T17:48:08.776840Z"
    },
    "papermill": {
     "duration": 1305.648199,
     "end_time": "2022-03-03T18:29:18.739556",
     "exception": false,
     "start_time": "2022-03-03T18:07:33.091357",
     "status": "completed"
    },
    "tags": []
   },
   "outputs": [
    {
     "name": "stdout",
     "output_type": "stream",
     "text": [
      "[18:07:33] Stdout logging level is INFO3.\n",
      "[18:07:33] Copying TaskTimer may affect the parent PipelineTimer, so copy will create new unlimited TaskTimer\n",
      "[18:07:33] Task: reg\n",
      "\n",
      "[18:07:33] Start automl preset with listed constraints:\n",
      "[18:07:33] - time: 28800.00 seconds\n",
      "[18:07:33] - CPU: 4 cores\n",
      "[18:07:33] - memory: 16 GB\n",
      "\n",
      "[18:07:33] \u001b[1mTrain data shape: (848835, 24)\u001b[0m\n",
      "\n",
      "[18:07:45] Feats was rejected during automatic roles guess: []\n",
      "[18:07:46] Layer \u001b[1m1\u001b[0m train process start. Time left 28786.74 secs\n",
      "[18:07:50] [1]\tvalid's l1: 13.3978\n",
      "[18:07:50] Training until validation scores don't improve for 100 rounds\n",
      "[18:08:04] [100]\tvalid's l1: 6.41383\n",
      "[18:08:15] [200]\tvalid's l1: 6.24256\n",
      "[18:08:25] [300]\tvalid's l1: 6.16735\n",
      "[18:08:32] [400]\tvalid's l1: 6.1167\n",
      "[18:08:40] [500]\tvalid's l1: 6.07768\n",
      "[18:08:47] [600]\tvalid's l1: 6.04725\n",
      "[18:08:54] [700]\tvalid's l1: 6.02376\n",
      "[18:09:01] [800]\tvalid's l1: 6.00317\n",
      "[18:09:07] [900]\tvalid's l1: 5.98455\n",
      "[18:09:14] [1000]\tvalid's l1: 5.96802\n",
      "[18:09:20] [1100]\tvalid's l1: 5.95457\n",
      "[18:09:28] [1200]\tvalid's l1: 5.94125\n",
      "[18:09:34] [1300]\tvalid's l1: 5.93057\n",
      "[18:09:40] [1400]\tvalid's l1: 5.92103\n",
      "[18:09:46] [1500]\tvalid's l1: 5.91182\n",
      "[18:09:53] [1600]\tvalid's l1: 5.90344\n",
      "[18:10:01] [1700]\tvalid's l1: 5.89547\n",
      "[18:10:07] [1800]\tvalid's l1: 5.88849\n",
      "[18:10:13] [1900]\tvalid's l1: 5.88158\n",
      "[18:10:20] [2000]\tvalid's l1: 5.87452\n",
      "[18:10:33] \u001b[1mSelector_LightGBM\u001b[0m fitting and predicting completed\n",
      "[18:11:23] Start fitting \u001b[1mLvl_0_Pipe_0_Mod_0_LightGBM\u001b[0m ...\n",
      "[18:11:23] ===== Start working with \u001b[1mfold 0\u001b[0m for \u001b[1mLvl_0_Pipe_0_Mod_0_LightGBM\u001b[0m =====\n",
      "[18:11:25] [1]\tvalid's l1: 13.3705\n",
      "[18:11:25] Training until validation scores don't improve for 100 rounds\n",
      "[18:11:41] [100]\tvalid's l1: 6.34901\n",
      "[18:11:53] [200]\tvalid's l1: 6.31064\n",
      "[18:12:03] [300]\tvalid's l1: 6.30261\n",
      "[18:12:15] [400]\tvalid's l1: 6.28523\n",
      "[18:12:24] [500]\tvalid's l1: 6.2661\n",
      "[18:12:34] [600]\tvalid's l1: 6.24536\n"
     ]
    },
    {
     "name": "stderr",
     "output_type": "stream",
     "text": [
      "/opt/conda/lib/python3.7/site-packages/lightautoml/transformers/categorical.py:460: RuntimeWarning: invalid value encountered in true_divide\n",
      "  folds_prior = (f_sum.sum() - f_sum) / (f_count.sum() - f_count)\n",
      "/opt/conda/lib/python3.7/site-packages/lightautoml/transformers/categorical.py:460: RuntimeWarning: invalid value encountered in true_divide\n",
      "  folds_prior = (f_sum.sum() - f_sum) / (f_count.sum() - f_count)\n",
      "/opt/conda/lib/python3.7/site-packages/lightautoml/transformers/categorical.py:460: RuntimeWarning: invalid value encountered in true_divide\n",
      "  folds_prior = (f_sum.sum() - f_sum) / (f_count.sum() - f_count)\n",
      "/opt/conda/lib/python3.7/site-packages/lightautoml/transformers/categorical.py:460: RuntimeWarning: invalid value encountered in true_divide\n",
      "  folds_prior = (f_sum.sum() - f_sum) / (f_count.sum() - f_count)\n"
     ]
    },
    {
     "name": "stdout",
     "output_type": "stream",
     "text": [
      "[18:12:46] [700]\tvalid's l1: 6.23072\n",
      "[18:12:56] [800]\tvalid's l1: 6.20783\n",
      "[18:13:05] [900]\tvalid's l1: 6.19177\n",
      "[18:13:14] [1000]\tvalid's l1: 6.17991\n",
      "[18:13:24] [1100]\tvalid's l1: 6.16263\n",
      "[18:13:33] [1200]\tvalid's l1: 6.15307\n",
      "[18:13:42] [1300]\tvalid's l1: 6.14369\n",
      "[18:13:51] [1400]\tvalid's l1: 6.13449\n",
      "[18:14:00] [1500]\tvalid's l1: 6.12654\n",
      "[18:14:09] [1600]\tvalid's l1: 6.12001\n",
      "[18:14:18] [1700]\tvalid's l1: 6.11191\n",
      "[18:14:27] [1800]\tvalid's l1: 6.10551\n",
      "[18:14:36] [1900]\tvalid's l1: 6.10015\n",
      "[18:14:45] [2000]\tvalid's l1: 6.09509\n",
      "[18:15:01] ===== Start working with \u001b[1mfold 1\u001b[0m for \u001b[1mLvl_0_Pipe_0_Mod_0_LightGBM\u001b[0m =====\n",
      "[18:15:03] [1]\tvalid's l1: 13.3904\n",
      "[18:15:03] Training until validation scores don't improve for 100 rounds\n",
      "[18:15:18] [100]\tvalid's l1: 6.35661\n",
      "[18:15:31] [200]\tvalid's l1: 6.32111\n",
      "[18:15:41] [300]\tvalid's l1: 6.31458\n",
      "[18:15:51] [400]\tvalid's l1: 6.29932\n",
      "[18:16:01] [500]\tvalid's l1: 6.28593\n",
      "[18:16:15] [600]\tvalid's l1: 6.2718\n",
      "[18:16:25] [700]\tvalid's l1: 6.25659\n",
      "[18:16:35] [800]\tvalid's l1: 6.23287\n",
      "[18:16:44] [900]\tvalid's l1: 6.21114\n",
      "[18:16:53] [1000]\tvalid's l1: 6.19224\n",
      "[18:17:02] [1100]\tvalid's l1: 6.17815\n",
      "[18:17:12] [1200]\tvalid's l1: 6.16575\n",
      "[18:17:21] [1300]\tvalid's l1: 6.15436\n",
      "[18:17:29] [1400]\tvalid's l1: 6.14248\n",
      "[18:17:39] [1500]\tvalid's l1: 6.13162\n",
      "[18:17:48] [1600]\tvalid's l1: 6.12389\n",
      "[18:17:56] [1700]\tvalid's l1: 6.11604\n",
      "[18:18:05] [1800]\tvalid's l1: 6.10931\n",
      "[18:18:14] [1900]\tvalid's l1: 6.10403\n",
      "[18:18:23] [2000]\tvalid's l1: 6.09844\n",
      "[18:18:40] ===== Start working with \u001b[1mfold 2\u001b[0m for \u001b[1mLvl_0_Pipe_0_Mod_0_LightGBM\u001b[0m =====\n",
      "[18:18:41] [1]\tvalid's l1: 13.328\n",
      "[18:18:41] Training until validation scores don't improve for 100 rounds\n",
      "[18:18:58] [100]\tvalid's l1: 6.33965\n",
      "[18:19:09] [200]\tvalid's l1: 6.31489\n",
      "[18:19:21] [300]\tvalid's l1: 6.29175\n",
      "[18:19:31] [400]\tvalid's l1: 6.26829\n",
      "[18:19:41] [500]\tvalid's l1: 6.24808\n",
      "[18:19:51] [600]\tvalid's l1: 6.22342\n",
      "[18:20:00] [700]\tvalid's l1: 6.20786\n",
      "[18:20:10] [800]\tvalid's l1: 6.19105\n",
      "[18:20:19] [900]\tvalid's l1: 6.17326\n",
      "[18:20:29] [1000]\tvalid's l1: 6.16163\n",
      "[18:20:37] [1100]\tvalid's l1: 6.14971\n",
      "[18:20:46] [1200]\tvalid's l1: 6.13763\n",
      "[18:20:56] [1300]\tvalid's l1: 6.12551\n",
      "[18:21:05] [1400]\tvalid's l1: 6.11888\n",
      "[18:21:14] [1500]\tvalid's l1: 6.11112\n",
      "[18:21:22] [1600]\tvalid's l1: 6.1041\n",
      "[18:21:31] [1700]\tvalid's l1: 6.09825\n",
      "[18:21:40] [1800]\tvalid's l1: 6.09267\n",
      "[18:21:49] [1900]\tvalid's l1: 6.08691\n",
      "[18:21:57] [2000]\tvalid's l1: 6.08207\n",
      "[18:22:15] ===== Start working with \u001b[1mfold 3\u001b[0m for \u001b[1mLvl_0_Pipe_0_Mod_0_LightGBM\u001b[0m =====\n",
      "[18:22:16] [1]\tvalid's l1: 13.3887\n",
      "[18:22:16] Training until validation scores don't improve for 100 rounds\n",
      "[18:22:32] [100]\tvalid's l1: 6.36322\n",
      "[18:22:44] [200]\tvalid's l1: 6.32409\n",
      "[18:22:54] [300]\tvalid's l1: 6.31978\n",
      "[18:23:05] [400]\tvalid's l1: 6.31106\n",
      "[18:23:15] [500]\tvalid's l1: 6.28709\n",
      "[18:23:24] [600]\tvalid's l1: 6.26531\n",
      "[18:23:34] [700]\tvalid's l1: 6.24828\n",
      "[18:23:44] [800]\tvalid's l1: 6.2313\n",
      "[18:23:52] [900]\tvalid's l1: 6.21831\n",
      "[18:24:01] [1000]\tvalid's l1: 6.20379\n",
      "[18:24:11] [1100]\tvalid's l1: 6.19146\n",
      "[18:24:20] [1200]\tvalid's l1: 6.17702\n",
      "[18:24:29] [1300]\tvalid's l1: 6.16878\n",
      "[18:24:38] [1400]\tvalid's l1: 6.15604\n",
      "[18:24:47] [1500]\tvalid's l1: 6.14708\n",
      "[18:24:56] [1600]\tvalid's l1: 6.14017\n",
      "[18:25:04] [1700]\tvalid's l1: 6.13182\n",
      "[18:25:13] [1800]\tvalid's l1: 6.12619\n",
      "[18:25:22] [1900]\tvalid's l1: 6.12014\n",
      "[18:25:31] [2000]\tvalid's l1: 6.11553\n",
      "[18:25:48] ===== Start working with \u001b[1mfold 4\u001b[0m for \u001b[1mLvl_0_Pipe_0_Mod_0_LightGBM\u001b[0m =====\n",
      "[18:25:49] [1]\tvalid's l1: 13.4116\n",
      "[18:25:49] Training until validation scores don't improve for 100 rounds\n",
      "[18:26:04] [100]\tvalid's l1: 6.40075\n",
      "[18:26:16] [200]\tvalid's l1: 6.36314\n",
      "[18:26:32] [300]\tvalid's l1: 6.34797\n",
      "[18:26:42] [400]\tvalid's l1: 6.32824\n",
      "[18:26:51] [500]\tvalid's l1: 6.30651\n",
      "[18:27:01] [600]\tvalid's l1: 6.28804\n",
      "[18:27:10] [700]\tvalid's l1: 6.26502\n",
      "[18:27:19] [800]\tvalid's l1: 6.24647\n",
      "[18:27:28] [900]\tvalid's l1: 6.22896\n",
      "[18:27:37] [1000]\tvalid's l1: 6.21069\n",
      "[18:27:45] [1100]\tvalid's l1: 6.19856\n",
      "[18:27:54] [1200]\tvalid's l1: 6.18757\n",
      "[18:28:03] [1300]\tvalid's l1: 6.17657\n",
      "[18:28:12] [1400]\tvalid's l1: 6.16778\n",
      "[18:28:20] [1500]\tvalid's l1: 6.16266\n",
      "[18:28:28] [1600]\tvalid's l1: 6.15432\n",
      "[18:28:37] [1700]\tvalid's l1: 6.14838\n",
      "[18:28:45] [1800]\tvalid's l1: 6.14299\n",
      "[18:28:53] [1900]\tvalid's l1: 6.13776\n",
      "[18:29:01] [2000]\tvalid's l1: 6.13255\n",
      "[18:29:18] Fitting \u001b[1mLvl_0_Pipe_0_Mod_0_LightGBM\u001b[0m finished. score = \u001b[1m-6.104738736107287\u001b[0m\n",
      "[18:29:18] \u001b[1mLvl_0_Pipe_0_Mod_0_LightGBM\u001b[0m fitting and predicting completed\n",
      "[18:29:18] Time left 27494.50 secs\n",
      "\n",
      "[18:29:18] \u001b[1mLayer 1 training completed.\u001b[0m\n",
      "\n",
      "[18:29:18] \u001b[1mAutoml preset training completed in 1305.57 seconds\u001b[0m\n",
      "\n",
      "[18:29:18] Model description:\n",
      "Final prediction for new objects (level 0) = \n",
      "\t 1.00000 * (5 averaged models Lvl_0_Pipe_0_Mod_0_LightGBM) \n",
      "\n",
      "oof_pred:\n",
      "array([[39.238464],\n",
      "       [42.096687],\n",
      "       [35.395515],\n",
      "       ...,\n",
      "       [68.036575],\n",
      "       [19.666138],\n",
      "       [39.523464]], dtype=float32)\n",
      "Shape = (848835, 1)\n"
     ]
    }
   ],
   "source": [
    "oof_pred = automl.fit_predict(train_data, roles = roles, verbose=3)\n",
    "print('oof_pred:\\n{}\\nShape = {}'.format(oof_pred, oof_pred.shape))"
   ]
  },
  {
   "cell_type": "code",
   "execution_count": 19,
   "id": "d26de82a",
   "metadata": {
    "execution": {
     "iopub.execute_input": "2022-03-03T18:29:18.958441Z",
     "iopub.status.busy": "2022-03-03T18:29:18.957700Z",
     "iopub.status.idle": "2022-03-03T18:29:19.420565Z",
     "shell.execute_reply": "2022-03-03T18:29:19.421037Z",
     "shell.execute_reply.started": "2022-03-03T17:59:47.781633Z"
    },
    "papermill": {
     "duration": 0.580483,
     "end_time": "2022-03-03T18:29:19.421230",
     "exception": false,
     "start_time": "2022-03-03T18:29:18.840747",
     "status": "completed"
    },
    "tags": []
   },
   "outputs": [
    {
     "name": "stdout",
     "output_type": "stream",
     "text": [
      "CPU times: user 147 ms, sys: 85.9 ms, total: 233 ms\n",
      "Wall time: 123 ms\n"
     ]
    },
    {
     "data": {
      "text/plain": [
       "<AxesSubplot:xlabel='Feature'>"
      ]
     },
     "execution_count": 19,
     "metadata": {},
     "output_type": "execute_result"
    },
    {
     "data": {
      "image/png": "[encoded data removed]",
      "text/plain": [
       "<Figure size 1440x720 with 1 Axes>"
      ]
     },
     "metadata": {
      "needs_background": "light"
     },
     "output_type": "display_data"
    }
   ],
   "source": [
    "%%time\n",
    "\n",
    "fast_fi = automl.get_feature_scores('fast')\n",
    "fast_fi.set_index('Feature')['Importance'].plot.bar(figsize=(20, 10), grid=True)"
   ]
  },
  {
   "cell_type": "markdown",
   "id": "d87bb8b0",
   "metadata": {
    "papermill": {
     "duration": 0.100784,
     "end_time": "2022-03-03T18:29:19.622774",
     "exception": false,
     "start_time": "2022-03-03T18:29:19.521990",
     "status": "completed"
    },
    "tags": []
   },
   "source": [
    "# 4. Predict for test dataset"
   ]
  },
  {
   "cell_type": "code",
   "execution_count": 20,
   "id": "7dcfe9ac",
   "metadata": {
    "execution": {
     "iopub.execute_input": "2022-03-03T18:29:19.829768Z",
     "iopub.status.busy": "2022-03-03T18:29:19.829082Z",
     "iopub.status.idle": "2022-03-03T18:29:21.074095Z",
     "shell.execute_reply": "2022-03-03T18:29:21.075314Z",
     "shell.execute_reply.started": "2022-03-03T17:59:48.166302Z"
    },
    "papermill": {
     "duration": 1.3522,
     "end_time": "2022-03-03T18:29:21.075575",
     "exception": false,
     "start_time": "2022-03-03T18:29:19.723375",
     "status": "completed"
    },
    "tags": []
   },
   "outputs": [
    {
     "name": "stdout",
     "output_type": "stream",
     "text": [
      "Prediction for test data:\n",
      "array([[46.027767],\n",
      "       [34.16307 ],\n",
      "       [48.574802],\n",
      "       ...,\n",
      "       [69.04426 ],\n",
      "       [11.849389],\n",
      "       [39.732124]], dtype=float32)\n",
      "Shape = (2340, 1)\n",
      "CPU times: user 4.51 s, sys: 2.03 ms, total: 4.51 s\n",
      "Wall time: 1.24 s\n"
     ]
    }
   ],
   "source": [
    "%%time\n",
    "\n",
    "test_pred = automl.predict(test_data)\n",
    "print('Prediction for test data:\\n{}\\nShape = {}'\n",
    "              .format(test_pred, test_pred.shape))"
   ]
  },
  {
   "cell_type": "code",
   "execution_count": 21,
   "id": "d85bbd77",
   "metadata": {
    "execution": {
     "iopub.execute_input": "2022-03-03T18:29:21.289304Z",
     "iopub.status.busy": "2022-03-03T18:29:21.288639Z",
     "iopub.status.idle": "2022-03-03T18:29:21.313172Z",
     "shell.execute_reply": "2022-03-03T18:29:21.313694Z",
     "shell.execute_reply.started": "2022-03-03T17:59:48.679730Z"
    },
    "papermill": {
     "duration": 0.133388,
     "end_time": "2022-03-03T18:29:21.313902",
     "exception": false,
     "start_time": "2022-03-03T18:29:21.180514",
     "status": "completed"
    },
    "tags": []
   },
   "outputs": [
    {
     "data": {
      "text/html": [
       "<div>\n",
       "<style scoped>\n",
       "    .dataframe tbody tr th:only-of-type {\n",
       "        vertical-align: middle;\n",
       "    }\n",
       "\n",
       "    .dataframe tbody tr th {\n",
       "        vertical-align: top;\n",
       "    }\n",
       "\n",
       "    .dataframe thead th {\n",
       "        text-align: right;\n",
       "    }\n",
       "</style>\n",
       "<table border=\"1\" class=\"dataframe\">\n",
       "  <thead>\n",
       "    <tr style=\"text-align: right;\">\n",
       "      <th></th>\n",
       "      <th>row_id</th>\n",
       "      <th>congestion</th>\n",
       "    </tr>\n",
       "  </thead>\n",
       "  <tbody>\n",
       "    <tr>\n",
       "      <th>0</th>\n",
       "      <td>848835</td>\n",
       "      <td>46.027767</td>\n",
       "    </tr>\n",
       "    <tr>\n",
       "      <th>1</th>\n",
       "      <td>848836</td>\n",
       "      <td>34.163071</td>\n",
       "    </tr>\n",
       "    <tr>\n",
       "      <th>2</th>\n",
       "      <td>848837</td>\n",
       "      <td>48.574802</td>\n",
       "    </tr>\n",
       "    <tr>\n",
       "      <th>3</th>\n",
       "      <td>848838</td>\n",
       "      <td>25.823097</td>\n",
       "    </tr>\n",
       "    <tr>\n",
       "      <th>4</th>\n",
       "      <td>848839</td>\n",
       "      <td>68.745132</td>\n",
       "    </tr>\n",
       "    <tr>\n",
       "      <th>...</th>\n",
       "      <td>...</td>\n",
       "      <td>...</td>\n",
       "    </tr>\n",
       "    <tr>\n",
       "      <th>2335</th>\n",
       "      <td>851170</td>\n",
       "      <td>66.414696</td>\n",
       "    </tr>\n",
       "    <tr>\n",
       "      <th>2336</th>\n",
       "      <td>851171</td>\n",
       "      <td>26.906914</td>\n",
       "    </tr>\n",
       "    <tr>\n",
       "      <th>2337</th>\n",
       "      <td>851172</td>\n",
       "      <td>69.044258</td>\n",
       "    </tr>\n",
       "    <tr>\n",
       "      <th>2338</th>\n",
       "      <td>851173</td>\n",
       "      <td>11.849389</td>\n",
       "    </tr>\n",
       "    <tr>\n",
       "      <th>2339</th>\n",
       "      <td>851174</td>\n",
       "      <td>39.732124</td>\n",
       "    </tr>\n",
       "  </tbody>\n",
       "</table>\n",
       "<p>2340 rows × 2 columns</p>\n",
       "</div>"
      ],
      "text/plain": [
       "      row_id  congestion\n",
       "0     848835   46.027767\n",
       "1     848836   34.163071\n",
       "2     848837   48.574802\n",
       "3     848838   25.823097\n",
       "4     848839   68.745132\n",
       "...      ...         ...\n",
       "2335  851170   66.414696\n",
       "2336  851171   26.906914\n",
       "2337  851172   69.044258\n",
       "2338  851173   11.849389\n",
       "2339  851174   39.732124\n",
       "\n",
       "[2340 rows x 2 columns]"
      ]
     },
     "execution_count": 21,
     "metadata": {},
     "output_type": "execute_result"
    }
   ],
   "source": [
    "submission[TARGET_NAME] = test_pred.data[:, 0]\n",
    "submission.to_csv('lightautoml_tabularautoml.csv', index=False)\n",
    "submission"
   ]
  },
  {
   "cell_type": "code",
   "execution_count": 22,
   "id": "b9d6bdb7",
   "metadata": {
    "execution": {
     "iopub.execute_input": "2022-03-03T18:29:21.521976Z",
     "iopub.status.busy": "2022-03-03T18:29:21.521253Z",
     "iopub.status.idle": "2022-03-03T18:29:21.538071Z",
     "shell.execute_reply": "2022-03-03T18:29:21.538667Z",
     "shell.execute_reply.started": "2022-03-03T17:59:48.706397Z"
    },
    "papermill": {
     "duration": 0.122813,
     "end_time": "2022-03-03T18:29:21.538866",
     "exception": false,
     "start_time": "2022-03-03T18:29:21.416053",
     "status": "completed"
    },
    "tags": []
   },
   "outputs": [
    {
     "data": {
      "text/html": [
       "<div>\n",
       "<style scoped>\n",
       "    .dataframe tbody tr th:only-of-type {\n",
       "        vertical-align: middle;\n",
       "    }\n",
       "\n",
       "    .dataframe tbody tr th {\n",
       "        vertical-align: top;\n",
       "    }\n",
       "\n",
       "    .dataframe thead th {\n",
       "        text-align: right;\n",
       "    }\n",
       "</style>\n",
       "<table border=\"1\" class=\"dataframe\">\n",
       "  <thead>\n",
       "    <tr style=\"text-align: right;\">\n",
       "      <th></th>\n",
       "      <th>row_id</th>\n",
       "      <th>congestion</th>\n",
       "    </tr>\n",
       "  </thead>\n",
       "  <tbody>\n",
       "    <tr>\n",
       "      <th>count</th>\n",
       "      <td>2340.000000</td>\n",
       "      <td>2340.000000</td>\n",
       "    </tr>\n",
       "    <tr>\n",
       "      <th>mean</th>\n",
       "      <td>850004.500000</td>\n",
       "      <td>49.813446</td>\n",
       "    </tr>\n",
       "    <tr>\n",
       "      <th>std</th>\n",
       "      <td>675.644137</td>\n",
       "      <td>14.336147</td>\n",
       "    </tr>\n",
       "    <tr>\n",
       "      <th>min</th>\n",
       "      <td>848835.000000</td>\n",
       "      <td>11.849389</td>\n",
       "    </tr>\n",
       "    <tr>\n",
       "      <th>25%</th>\n",
       "      <td>849419.750000</td>\n",
       "      <td>38.895379</td>\n",
       "    </tr>\n",
       "    <tr>\n",
       "      <th>50%</th>\n",
       "      <td>850004.500000</td>\n",
       "      <td>49.298330</td>\n",
       "    </tr>\n",
       "    <tr>\n",
       "      <th>75%</th>\n",
       "      <td>850589.250000</td>\n",
       "      <td>61.782782</td>\n",
       "    </tr>\n",
       "    <tr>\n",
       "      <th>max</th>\n",
       "      <td>851174.000000</td>\n",
       "      <td>80.931892</td>\n",
       "    </tr>\n",
       "  </tbody>\n",
       "</table>\n",
       "</div>"
      ],
      "text/plain": [
       "              row_id   congestion\n",
       "count    2340.000000  2340.000000\n",
       "mean   850004.500000    49.813446\n",
       "std       675.644137    14.336147\n",
       "min    848835.000000    11.849389\n",
       "25%    849419.750000    38.895379\n",
       "50%    850004.500000    49.298330\n",
       "75%    850589.250000    61.782782\n",
       "max    851174.000000    80.931892"
      ]
     },
     "execution_count": 22,
     "metadata": {},
     "output_type": "execute_result"
    }
   ],
   "source": [
    "submission.describe()"
   ]
  },
  {
   "cell_type": "markdown",
   "id": "75c652d9",
   "metadata": {
    "papermill": {
     "duration": 0.101208,
     "end_time": "2022-03-03T18:29:21.742627",
     "exception": false,
     "start_time": "2022-03-03T18:29:21.641419",
     "status": "completed"
    },
    "tags": []
   },
   "source": [
    "# Additional materials"
   ]
  },
  {
   "cell_type": "markdown",
   "id": "d9d12115",
   "metadata": {
    "papermill": {
     "duration": 0.101792,
     "end_time": "2022-03-03T18:29:21.947468",
     "exception": false,
     "start_time": "2022-03-03T18:29:21.845676",
     "status": "completed"
    },
    "tags": []
   },
   "source": [
    "- [Official LightAutoML github repo](https://github.com/sberbank-ai-lab/LightAutoML)\n",
    "- [LightAutoML documentation](https://lightautoml.readthedocs.io/en/latest)\n",
    "- [LightAutoML tutorials](https://github.com/sberbank-ai-lab/LightAutoML/tree/master/examples/tutorials)\n",
    "- LightAutoML course:\n",
    "    - [Part 1 - general overview](https://ods.ai/tracks/automl-course-part1) \n",
    "    - [Part 2 - LightAutoML specific applications](https://ods.ai/tracks/automl-course-part2)\n",
    "    - [Part 3 - LightAutoML customization](https://ods.ai/tracks/automl-course-part3)\n",
    "- [OpenDataScience AutoML benchmark leaderboard](https://ods.ai/competitions/automl-benchmark/leaderboard)"
   ]
  },
  {
   "cell_type": "markdown",
   "id": "1a5d40bc",
   "metadata": {
    "papermill": {
     "duration": 0.104185,
     "end_time": "2022-03-03T18:29:22.155097",
     "exception": false,
     "start_time": "2022-03-03T18:29:22.050912",
     "status": "completed"
    },
    "tags": []
   },
   "source": [
    "### If you still like the notebook, do not forget to put upvote for the notebook and the ⭐️ for github repo if you like it using the button below - one click for you, great pleasure for us ☺️"
   ]
  },
  {
   "cell_type": "code",
   "execution_count": 23,
   "id": "adf81dc8",
   "metadata": {
    "_kg_hide-input": true,
    "execution": {
     "iopub.execute_input": "2022-03-03T18:29:22.364392Z",
     "iopub.status.busy": "2022-03-03T18:29:22.363674Z",
     "iopub.status.idle": "2022-03-03T18:29:22.371363Z",
     "shell.execute_reply": "2022-03-03T18:29:22.371925Z",
     "shell.execute_reply.started": "2022-03-03T17:59:48.726084Z"
    },
    "papermill": {
     "duration": 0.115157,
     "end_time": "2022-03-03T18:29:22.372127",
     "exception": false,
     "start_time": "2022-03-03T18:29:22.256970",
     "status": "completed"
    },
    "tags": []
   },
   "outputs": [
    {
     "name": "stderr",
     "output_type": "stream",
     "text": [
      "/opt/conda/lib/python3.7/site-packages/IPython/core/display.py:724: UserWarning: Consider using IPython.display.IFrame instead\n",
      "  warnings.warn(\"Consider using IPython.display.IFrame instead\")\n"
     ]
    },
    {
     "data": {
      "text/html": [
       "<iframe src=\"https://ghbtns.com/github-btn.html?user=sberbank-ai-lab&repo=LightAutoML&type=star&count=true&size=large\" frameborder=\"0\" scrolling=\"0\" width=\"170\" height=\"30\" title=\"LightAutoML GitHub\"></iframe>"
      ],
      "text/plain": [
       "<IPython.core.display.HTML object>"
      ]
     },
     "execution_count": 23,
     "metadata": {},
     "output_type": "execute_result"
    }
   ],
   "source": [
    "s = '<iframe src=\"https://ghbtns.com/github-btn.html?user=sberbank-ai-lab&repo=LightAutoML&type=star&count=true&size=large\" frameborder=\"0\" scrolling=\"0\" width=\"170\" height=\"30\" title=\"LightAutoML GitHub\"></iframe>'\n",
    "HTML(s)"
   ]
  }
 ],
 "metadata": {
  "kernelspec": {
   "display_name": "Python 3 (ipykernel)",
   "language": "python",
   "name": "python3"
  },
  "language_info": {
   "codemirror_mode": {
    "name": "ipython",
    "version": 3
   },
   "file_extension": ".py",
   "mimetype": "text/x-python",
   "name": "python",
   "nbconvert_exporter": "python",
   "pygments_lexer": "ipython3",
   "version": "3.9.6"
  },
  "papermill": {
   "default_parameters": {},
   "duration": 1448.724972,
   "end_time": "2022-03-03T18:29:24.303222",
   "environment_variables": {},
   "exception": null,
   "input_path": "__notebook__.ipynb",
   "output_path": "__notebook__.ipynb",
   "parameters": {},
   "start_time": "2022-03-03T18:05:15.578250",
   "version": "2.3.3"
  }
 },
 "nbformat": 4,
 "nbformat_minor": 5
}
